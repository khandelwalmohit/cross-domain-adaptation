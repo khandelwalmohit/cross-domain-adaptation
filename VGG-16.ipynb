{
 "cells": [
  {
   "cell_type": "code",
   "execution_count": 14,
   "metadata": {},
   "outputs": [
    {
     "name": "stdout",
     "output_type": "stream",
     "text": [
      "Using CUDA\n",
      "https://app.neptune.ai/mohitkhandelwal/vgg/e/VGG-3\n"
     ]
    }
   ],
   "source": [
    "from __future__ import print_function, division\n",
    "\n",
    "import torch\n",
    "import torch.nn as nn\n",
    "import torch.optim as optim\n",
    "from torch.optim import lr_scheduler\n",
    "from torch.autograd import Variable\n",
    "import numpy as np\n",
    "import torchvision\n",
    "from torchvision import datasets, models, transforms\n",
    "import matplotlib.pyplot as plt\n",
    "import time\n",
    "import os\n",
    "import copy\n",
    "import random\n",
    "from tqdm import tqdm\n",
    "import pandas as pd\n",
    "plt.ion()  \n",
    "\n",
    "use_gpu = torch.cuda.is_available()\n",
    "if use_gpu:\n",
    "    print(\"Using CUDA\")"
   ]
  },
  {
   "cell_type": "code",
   "execution_count": 2,
   "metadata": {},
   "outputs": [
    {
     "name": "stdout",
     "output_type": "stream",
     "text": [
      "1.8.1+cu111\n"
     ]
    }
   ],
   "source": []
  },
  {
   "cell_type": "code",
   "execution_count": 3,
   "metadata": {},
   "outputs": [
    {
     "data": {
      "text/plain": [
       "<torch._C.Generator at 0x7f6fb810c770>"
      ]
     },
     "execution_count": 3,
     "metadata": {},
     "output_type": "execute_result"
    }
   ],
   "source": [
    "torch.manual_seed(0)\n"
   ]
  },
  {
   "cell_type": "code",
   "execution_count": 20,
   "metadata": {},
   "outputs": [
    {
     "name": "stdout",
     "output_type": "stream",
     "text": [
      "Loaded 2653 images under train\n",
      "Loaded 662 images under validation\n",
      "Loaded 795 images under test\n",
      "Classes: \n",
      "['back_pack', 'bike', 'bike_helmet', 'bookcase', 'bottle', 'calculator', 'desk_chair', 'desk_lamp', 'desktop_computer', 'file_cabinet', 'headphones', 'keyboard', 'laptop_computer', 'letter_tray', 'mobile_phone', 'monitor', 'mouse', 'mug', 'paper_notebook', 'pen', 'phone', 'printer', 'projector', 'punchers', 'ring_binder', 'ruler', 'scissors', 'speaker', 'stapler', 'tape_dispenser', 'trash_can']\n"
     ]
    }
   ],
   "source": [
    "data_dir = \"/scratch/mk7711/dast/new_random/dd/\"\n",
    "TRAIN = 'train'\n",
    "VAL = 'validation'\n",
    "TEST = 'test'\n",
    "\n",
    "# VGG-16 Takes 224x224 images as input, so we resize all of them\n",
    "data_transforms = {\n",
    "    TRAIN: transforms.Compose([\n",
    "        # Data augmentation is a good practice for the train set\n",
    "        # Here, we randomly crop the image to 224x224 and\n",
    "        # randomly flip it horizontally. \n",
    "        transforms.Resize(256),\n",
    "        transforms.CenterCrop(224),\n",
    "        #transforms.RandomResizedCrop(224),\n",
    "        #transforms.RandomHorizontalFlip(),\n",
    "        #transforms.RandomHorizontalFlip(),\n",
    "        #transforms.RandomVerticalFlip(),\n",
    "        transforms.ToTensor(),\n",
    "        transforms.Normalize([0.485, 0.456, 0.406], [0.229, 0.224, 0.225])\n",
    "    ]),\n",
    "    VAL: transforms.Compose([\n",
    "        transforms.Resize(256),\n",
    "        transforms.CenterCrop(224),\n",
    "        transforms.ToTensor(),\n",
    "        transforms.Normalize([0.485, 0.456, 0.406], [0.229, 0.224, 0.225])\n",
    "    ]),\n",
    "    TEST: transforms.Compose([\n",
    "        transforms.Resize(256),\n",
    "        transforms.CenterCrop(224),\n",
    "        #transforms.RandomResizedCrop(224),\n",
    "        transforms.RandomHorizontalFlip(),\n",
    "        transforms.RandomVerticalFlip(),\n",
    "        transforms.ToTensor(),\n",
    "        transforms.Normalize([0.485, 0.456, 0.406], [0.229, 0.224, 0.225])\n",
    "    ])\n",
    "}\n",
    "\n",
    "image_datasets = {\n",
    "    x: datasets.ImageFolder(\n",
    "        os.path.join(data_dir, x), \n",
    "        transform=data_transforms[x]\n",
    "    )\n",
    "    for x in [TRAIN, VAL, TEST]\n",
    "}\n",
    "\n",
    "batch_size=256\n",
    "dataloaders = {\n",
    "    x: torch.utils.data.DataLoader(\n",
    "        image_datasets[x], batch_size=batch_size,\n",
    "        shuffle=True, num_workers=10\n",
    "    )\n",
    "    for x in [TRAIN, VAL, TEST]\n",
    "}\n",
    "\n",
    "dataset_sizes = {x: len(image_datasets[x]) for x in [TRAIN, VAL, TEST]}\n",
    "\n",
    "for x in [TRAIN, VAL, TEST]:\n",
    "    print(\"Loaded {} images under {}\".format(dataset_sizes[x], x))\n",
    "    \n",
    "print(\"Classes: \")\n",
    "class_names = image_datasets[TRAIN].classes\n",
    "print(image_datasets[TRAIN].classes)"
   ]
  },
  {
   "cell_type": "code",
   "execution_count": 5,
   "metadata": {},
   "outputs": [
    {
     "data": {
      "text/plain": [
       "{'train': 2653, 'validation': 662, 'test': 795}"
      ]
     },
     "execution_count": 5,
     "metadata": {},
     "output_type": "execute_result"
    }
   ],
   "source": [
    "dataset_sizes"
   ]
  },
  {
   "cell_type": "code",
   "execution_count": 6,
   "metadata": {},
   "outputs": [
    {
     "name": "stderr",
     "output_type": "stream",
     "text": [
      "Clipping input data to the valid range for imshow with RGB data ([0..1] for floats or [0..255] for integers).\n"
     ]
    },
    {
     "data": {
      "image/png": "[encoded data removed]",
      "text/plain": [
       "<Figure size 432x288 with 1 Axes>"
      ]
     },
     "metadata": {
      "needs_background": "light"
     },
     "output_type": "display_data"
    }
   ],
   "source": [
    "def imshow(inp, title=None):\n",
    "    inp = inp.numpy().transpose((1, 2, 0))\n",
    "    # plt.figure(figsize=(10, 10))\n",
    "    plt.axis('off')\n",
    "    plt.imshow(inp)\n",
    "    if title is not None:\n",
    "        plt.title(title)\n",
    "    plt.pause(0.001)\n",
    "\n",
    "def show_databatch(inputs, classes):\n",
    "    out = torchvision.utils.make_grid(inputs)\n",
    "    imshow(out, title=[class_names[x] for x in classes])\n",
    "\n",
    "# Get a batch of training data\n",
    "inputs, classes = next(iter(dataloaders[TRAIN]))\n",
    "show_databatch(inputs, classes)"
   ]
  },
  {
   "cell_type": "code",
   "execution_count": 7,
   "metadata": {},
   "outputs": [],
   "source": [
    "def visualize_model(model, num_images=6):\n",
    "    was_training = model.training\n",
    "    \n",
    "    # Set model for evaluation\n",
    "    model.train(False)\n",
    "    model.eval() \n",
    "    \n",
    "    images_so_far = 0\n",
    "\n",
    "    for i, data in enumerate(dataloaders[TEST]):\n",
    "        inputs, labels = data\n",
    "        size = inputs.size()[0]\n",
    "        \n",
    "        if use_gpu:\n",
    "            inputs, labels = Variable(inputs.cuda(), volatile=True), Variable(labels.cuda(), volatile=True)\n",
    "        else:\n",
    "            inputs, labels = Variable(inputs, volatile=True), Variable(labels, volatile=True)\n",
    "        \n",
    "        outputs = model(inputs)\n",
    "        \n",
    "        _, preds = torch.max(outputs.data, 1)\n",
    "        predicted_labels = [preds[j] for j in range(inputs.size()[0])]\n",
    "        \n",
    "        print(\"Ground truth:\")\n",
    "        show_databatch(inputs.data.cpu(), labels.data.cpu())\n",
    "        print(\"Prediction:\")\n",
    "        show_databatch(inputs.data.cpu(), predicted_labels)\n",
    "        \n",
    "        del inputs, labels, outputs, preds, predicted_labels\n",
    "        torch.cuda.empty_cache()\n",
    "        \n",
    "        images_so_far += size\n",
    "        if images_so_far >= num_images:\n",
    "            break\n",
    "        \n",
    "    model.train(mode=was_training) # Revert model back to original training state"
   ]
  },
  {
   "cell_type": "code",
   "execution_count": 8,
   "metadata": {},
   "outputs": [],
   "source": [
    "def eval_model(model, criterion):\n",
    "    since = time.time()\n",
    "    avg_loss = 0\n",
    "    avg_acc = 0\n",
    "    loss_test = 0\n",
    "    acc_test = 0\n",
    "    \n",
    "    test_batches = len(dataloaders[TEST])\n",
    "    print(\"Evaluating model\")\n",
    "    print('-' * 10)\n",
    "    \n",
    "    for i, data in enumerate(tqdm(dataloaders[TEST])):\n",
    "        #if i % 100 == 0:\n",
    "         #   print(\"\\rTest batch {}/{}\".format(i, test_batches), end='', flush=True)\n",
    "\n",
    "        model.train(False)\n",
    "        model.eval()\n",
    "        inputs, labels = data\n",
    "\n",
    "        if use_gpu:\n",
    "            with torch.no_grad():\n",
    "                inputs, labels = inputs.to(device),labels.to(device)\n",
    "                #inputs, labels = Variable(inputs.cuda(), volatile=True), Variable(labels.cuda(), volatile=True)\n",
    "        else:\n",
    "            inputs, labels = Variable(inputs, volatile=True), Variable(labels, volatile=True)\n",
    "\n",
    "        outputs = model(inputs)\n",
    "\n",
    "        _, preds = torch.max(outputs.data, 1)\n",
    "        loss = criterion(outputs, labels)\n",
    "                \n",
    "        loss_test += loss.data\n",
    "        acc_test += torch.sum(preds == labels.data)\n",
    "\n",
    "        del inputs, labels, outputs, preds\n",
    "        torch.cuda.empty_cache()\n",
    "        #gc.collect()\n",
    "        \n",
    "    avg_loss = loss_test / dataset_sizes[TEST]\n",
    "    avg_acc = acc_test / dataset_sizes[TEST]\n",
    "    \n",
    "    elapsed_time = time.time() - since\n",
    "    print()\n",
    "    print(\"Evaluation completed in {:.0f}m {:.0f}s\".format(elapsed_time // 60, elapsed_time % 60))\n",
    "    print(\"Avg loss (test): {:.4f}\".format(avg_loss))\n",
    "    print(\"Avg acc (test): {:.4f}\".format(avg_acc))\n",
    "    print('-' * 10)\n",
    "    return avg_loss, avg_acc"
   ]
  },
  {
   "cell_type": "code",
   "execution_count": null,
   "metadata": {},
   "outputs": [],
   "source": [
    "#For Pre-trained model\n",
    "model = models.vgg16(pretrained=True)\n",
    "\n",
    "for param in model.features.parameters():\n",
    "    param.require_grad = False"
   ]
  },
  {
   "cell_type": "code",
   "execution_count": 9,
   "metadata": {},
   "outputs": [
    {
     "name": "stdout",
     "output_type": "stream",
     "text": [
      "VGG(\n",
      "  (features): Sequential(\n",
      "    (0): Conv2d(3, 64, kernel_size=(3, 3), stride=(1, 1), padding=(1, 1))\n",
      "    (1): ReLU(inplace=True)\n",
      "    (2): Conv2d(64, 64, kernel_size=(3, 3), stride=(1, 1), padding=(1, 1))\n",
      "    (3): ReLU(inplace=True)\n",
      "    (4): MaxPool2d(kernel_size=2, stride=2, padding=0, dilation=1, ceil_mode=False)\n",
      "    (5): Conv2d(64, 128, kernel_size=(3, 3), stride=(1, 1), padding=(1, 1))\n",
      "    (6): ReLU(inplace=True)\n",
      "    (7): Conv2d(128, 128, kernel_size=(3, 3), stride=(1, 1), padding=(1, 1))\n",
      "    (8): ReLU(inplace=True)\n",
      "    (9): MaxPool2d(kernel_size=2, stride=2, padding=0, dilation=1, ceil_mode=False)\n",
      "    (10): Conv2d(128, 256, kernel_size=(3, 3), stride=(1, 1), padding=(1, 1))\n",
      "    (11): ReLU(inplace=True)\n",
      "    (12): Conv2d(256, 256, kernel_size=(3, 3), stride=(1, 1), padding=(1, 1))\n",
      "    (13): ReLU(inplace=True)\n",
      "    (14): Conv2d(256, 256, kernel_size=(3, 3), stride=(1, 1), padding=(1, 1))\n",
      "    (15): ReLU(inplace=True)\n",
      "    (16): MaxPool2d(kernel_size=2, stride=2, padding=0, dilation=1, ceil_mode=False)\n",
      "    (17): Conv2d(256, 512, kernel_size=(3, 3), stride=(1, 1), padding=(1, 1))\n",
      "    (18): ReLU(inplace=True)\n",
      "    (19): Conv2d(512, 512, kernel_size=(3, 3), stride=(1, 1), padding=(1, 1))\n",
      "    (20): ReLU(inplace=True)\n",
      "    (21): Conv2d(512, 512, kernel_size=(3, 3), stride=(1, 1), padding=(1, 1))\n",
      "    (22): ReLU(inplace=True)\n",
      "    (23): MaxPool2d(kernel_size=2, stride=2, padding=0, dilation=1, ceil_mode=False)\n",
      "    (24): Conv2d(512, 512, kernel_size=(3, 3), stride=(1, 1), padding=(1, 1))\n",
      "    (25): ReLU(inplace=True)\n",
      "    (26): Conv2d(512, 512, kernel_size=(3, 3), stride=(1, 1), padding=(1, 1))\n",
      "    (27): ReLU(inplace=True)\n",
      "    (28): Conv2d(512, 512, kernel_size=(3, 3), stride=(1, 1), padding=(1, 1))\n",
      "    (29): ReLU(inplace=True)\n",
      "    (30): MaxPool2d(kernel_size=2, stride=2, padding=0, dilation=1, ceil_mode=False)\n",
      "  )\n",
      "  (avgpool): AdaptiveAvgPool2d(output_size=(7, 7))\n",
      "  (classifier): Sequential(\n",
      "    (0): Linear(in_features=25088, out_features=4096, bias=True)\n",
      "    (1): ReLU(inplace=True)\n",
      "    (2): Dropout(p=0.5, inplace=False)\n",
      "    (3): Linear(in_features=4096, out_features=4096, bias=True)\n",
      "    (4): ReLU(inplace=True)\n",
      "    (5): Dropout(p=0.5, inplace=False)\n",
      "    (6): Linear(in_features=4096, out_features=31, bias=True)\n",
      "    (7): Softmax(dim=1)\n",
      "  )\n",
      ")\n"
     ]
    }
   ],
   "source": [
    "#For non pre-trained model\n",
    "model = models.vgg16(pretrained=False)"
   ]
  },
  {
   "cell_type": "code",
   "execution_count": null,
   "metadata": {},
   "outputs": [],
   "source": [
    "num_features = model.classifier[6].in_features\n",
    "features = list(model.classifier.children())[:-1] # Remove last layer\n",
    "features.extend([nn.Linear(num_features, len(class_names)),nn.Softmax(1) ]) # Add our layer with 4 outputs\n",
    "model.classifier = nn.Sequential(*features) # Replace the model classifier\n",
    "print(model)"
   ]
  },
  {
   "cell_type": "code",
   "execution_count": 21,
   "metadata": {},
   "outputs": [
    {
     "name": "stdout",
     "output_type": "stream",
     "text": [
      "cuda:0\n"
     ]
    }
   ],
   "source": [
    "device = torch.device(\"cuda:0\" if torch.cuda.is_available() else \"cpu\")\n",
    "print(device)\n",
    "model.to(device)\n",
    "    \n",
    "criterion = nn.CrossEntropyLoss()\n",
    "start_lr=0.00005\n",
    "weight_decay=0.001\n",
    "step_size=40\n",
    "gamma=0.1\n",
    "epochs=100\n",
    "optimizer_ft = optim.Adam(model.parameters(), lr=start_lr, betas=(0.5,.999), weight_decay=weight_decay)\n",
    "#optimizer_ft = optim.SGD(vgg16.parameters(), lr=0.0001, momentum=0.9, weight_decay=0.00001)\n",
    "exp_lr_scheduler = lr_scheduler.StepLR(optimizer_ft, step_size=step_size, gamma=gamma)\n",
    "if_lr=True\n",
    "#exp_lr_scheduler = lr_scheduler.CyclicLR(optimizer_ft, base_lr = 0.001, max_lr = 0.1, gamma=0.1,cycle_momentum=False)"
   ]
  },
  {
   "cell_type": "code",
   "execution_count": 11,
   "metadata": {},
   "outputs": [],
   "source": [
    "history= []"
   ]
  },
  {
   "cell_type": "code",
   "execution_count": 12,
   "metadata": {},
   "outputs": [],
   "source": [
    "def train_model(model, criterion, optimizer, num_epochs=10):\n",
    "    since = time.time()\n",
    "    best_model_wts = copy.deepcopy(model.state_dict())\n",
    "    best_acc = 0.0\n",
    "    \n",
    "    avg_loss = 0\n",
    "    avg_acc = 0\n",
    "    avg_loss_val = 0\n",
    "    avg_acc_val = 0\n",
    "    \n",
    "    train_batches = len(dataloaders[TRAIN])\n",
    "    val_batches = len(dataloaders[VAL])\n",
    "    \n",
    "    for epoch in range(num_epochs):\n",
    "        print(\"Epoch {}/{}\".format(epoch, num_epochs))\n",
    "        print('-' * 10)\n",
    "        \n",
    "        loss_train = 0\n",
    "        loss_val = 0\n",
    "        acc_train = 0\n",
    "        acc_val = 0\n",
    "        \n",
    "        model.train(True)\n",
    "        \n",
    "        print(\"Training Progress: \", flush= True)\n",
    "        for i, data in enumerate(tqdm(dataloaders[TRAIN])):\n",
    "            #if i % 100 == 0:\n",
    "             #   print(\"\\rTraining batch {}/{}\".format(i, train_batches / 2), end='', flush=True)\n",
    "                \n",
    "            # Use half training dataset\n",
    "            #if i >= train_batches / 2:\n",
    "             #   break\n",
    "                \n",
    "            inputs, labels = data\n",
    "            \n",
    "            if use_gpu:\n",
    "                inputs, labels = inputs.to(device), labels.to(device)\n",
    "            else:\n",
    "                inputs, labels = Variable(inputs), Variable(labels)\n",
    "            \n",
    "            optimizer.zero_grad()\n",
    "            \n",
    "            outputs = model(inputs)\n",
    "            #print(\"out\",outputs)\n",
    "            _, preds = torch.max(outputs.data, 1)\n",
    "            \n",
    "            #print(\"Outputs\", outputs)\n",
    "            #print(\"Preds\", preds)\n",
    "            #print(\"Labels\", labels.data)\n",
    "            \n",
    "            #_, preds = torch.max(outputs, 1)\n",
    "            loss = criterion(outputs, labels)\n",
    "            loss.backward()\n",
    "            optimizer.step()\n",
    "            \n",
    "            loss_train += loss.data\n",
    "            acc_train += torch.sum(preds == labels.data)\n",
    "            \n",
    "            #print(\"Acc_train\", acc_train)\n",
    "            \n",
    "            del inputs, labels, outputs, preds\n",
    "            torch.cuda.empty_cache()\n",
    "        \n",
    "        print()\n",
    "        # * 2 as we only used half of the dataset\n",
    "        avg_loss = loss_train/ dataset_sizes[TRAIN]\n",
    "        avg_acc = acc_train/ dataset_sizes[TRAIN]\n",
    "        \n",
    "        model.train(False)\n",
    "        model.eval()\n",
    "            \n",
    "        \n",
    "        print(\"Validation Progress: \", flush= True)\n",
    "        for i, data in enumerate(tqdm(dataloaders[VAL])):\n",
    "          #  if i % 100 == 0:\n",
    "                #print(\"\\rValidation batch {}/{}\".format(i, val_batches), end='', flush=True)\n",
    "                \n",
    "            inputs, labels = data\n",
    "            \n",
    "            if use_gpu:\n",
    "                #inputs, labels = inputs.cuda(),labels.cuda()\n",
    "                with torch.no_grad():\n",
    "                    inputs, labels = inputs.to(device),labels.to(device)\n",
    "                \n",
    "            else:\n",
    "                inputs, labels = Variable(inputs, volatile=True), Variable(labels, volatile=True)\n",
    "            \n",
    "            optimizer.zero_grad()\n",
    "            \n",
    "            outputs = model(inputs)\n",
    "            \n",
    "            _, preds = torch.max(outputs.data, 1)\n",
    "            #_, preds = torch.max(outputs, 1)\n",
    "            loss = criterion(outputs, labels)\n",
    "            \n",
    "            loss_val += loss.data\n",
    "            acc_val += torch.sum(preds == labels.data)\n",
    "            \n",
    "            del inputs, labels, outputs, preds\n",
    "            torch.cuda.empty_cache()\n",
    "        \n",
    "        avg_loss_val = loss_val / dataset_sizes[VAL]\n",
    "        avg_acc_val = acc_val / dataset_sizes[VAL]\n",
    "        \n",
    "        history.append([avg_loss, avg_loss_val, avg_acc, avg_acc_val])\n",
    "        \n",
    "        print()\n",
    "        print(\"Epoch {} result: \".format(epoch))\n",
    "        print(\"Learning Rate: \", exp_lr_scheduler.get_lr())\n",
    "        print(\"Avg loss (train): {:.4f}\".format(avg_loss))\n",
    "        print(\"Avg acc (train): {:.4f}\".format(avg_acc))\n",
    "        print(\"Avg loss (val): {:.4f}\".format(avg_loss_val))\n",
    "        print(\"Avg acc (val): {:.4f}\".format(avg_acc_val))\n",
    "        print('-' * 10)\n",
    "        print()\n",
    "        \n",
    "        exp_lr_scheduler.step()\n",
    "        \n",
    "        if avg_acc_val > best_acc:\n",
    "            best_acc = avg_acc_val\n",
    "            best_model_wts = copy.deepcopy(model.state_dict())\n",
    "            torch.save(model.state_dict(), 'vgg2-transfer.pt')\n",
    "        \n",
    "    elapsed_time = time.time() - since\n",
    "    print()\n",
    "    print(\"Training completed in {:.0f}m {:.0f}s\".format(elapsed_time // 60, elapsed_time % 60))\n",
    "    print(\"Best acc: {:.4f}\".format(best_acc))\n",
    "    \n",
    "    model.load_state_dict(best_model_wts)\n",
    "    return model"
   ]
  },
  {
   "cell_type": "code",
   "execution_count": 13,
   "metadata": {},
   "outputs": [
    {
     "name": "stdout",
     "output_type": "stream",
     "text": [
      "Epoch 0/100\n",
      "----------\n",
      "Training Progress: \n"
     ]
    },
    {
     "name": "stderr",
     "output_type": "stream",
     "text": [
      "100%|██████████| 11/11 [00:22<00:00,  2.06s/it]"
     ]
    },
    {
     "name": "stdout",
     "output_type": "stream",
     "text": [
      "\n",
      "Validation Progress: \n"
     ]
    },
    {
     "name": "stderr",
     "output_type": "stream",
     "text": [
      "\n",
      "100%|██████████| 3/3 [00:06<00:00,  2.11s/it]\n",
      "/home/mk7711/.local/lib/python3.8/site-packages/torch/optim/lr_scheduler.py:369: UserWarning: To get the last learning rate computed by the scheduler, please use `get_last_lr()`.\n",
      "  warnings.warn(\"To get the last learning rate computed by the scheduler, \"\n"
     ]
    },
    {
     "name": "stdout",
     "output_type": "stream",
     "text": [
      "\n",
      "Epoch 0 result: \n",
      "Learning Rate:  [5e-05]\n",
      "Avg loss (train): 0.0142\n",
      "Avg acc (train): 0.0302\n",
      "Avg loss (val): 0.0156\n",
      "Avg acc (val): 0.0332\n",
      "----------\n",
      "\n",
      "Epoch 1/100\n",
      "----------\n",
      "Training Progress: \n"
     ]
    },
    {
     "name": "stderr",
     "output_type": "stream",
     "text": [
      "100%|██████████| 11/11 [00:19<00:00,  1.81s/it]"
     ]
    },
    {
     "name": "stdout",
     "output_type": "stream",
     "text": [
      "\n",
      "Validation Progress: \n"
     ]
    },
    {
     "name": "stderr",
     "output_type": "stream",
     "text": [
      "\n",
      "100%|██████████| 3/3 [00:03<00:00,  1.28s/it]\n"
     ]
    },
    {
     "name": "stdout",
     "output_type": "stream",
     "text": [
      "\n",
      "Epoch 1 result: \n",
      "Learning Rate:  [5e-05]\n",
      "Avg loss (train): 0.0142\n",
      "Avg acc (train): 0.0354\n",
      "Avg loss (val): 0.0155\n",
      "Avg acc (val): 0.0650\n",
      "----------\n",
      "\n",
      "Epoch 2/100\n",
      "----------\n",
      "Training Progress: \n"
     ]
    },
    {
     "name": "stderr",
     "output_type": "stream",
     "text": [
      "100%|██████████| 11/11 [00:19<00:00,  1.79s/it]"
     ]
    },
    {
     "name": "stdout",
     "output_type": "stream",
     "text": [
      "\n",
      "Validation Progress: \n"
     ]
    },
    {
     "name": "stderr",
     "output_type": "stream",
     "text": [
      "\n",
      "100%|██████████| 3/3 [00:03<00:00,  1.26s/it]"
     ]
    },
    {
     "name": "stdout",
     "output_type": "stream",
     "text": [
      "\n",
      "Epoch 2 result: \n",
      "Learning Rate:  [5e-05]\n",
      "Avg loss (train): 0.0141\n",
      "Avg acc (train): 0.0746\n",
      "Avg loss (val): 0.0156\n",
      "Avg acc (val): 0.0423\n",
      "----------\n",
      "\n",
      "Epoch 3/100\n",
      "----------\n",
      "Training Progress: \n"
     ]
    },
    {
     "name": "stderr",
     "output_type": "stream",
     "text": [
      "\n",
      "100%|██████████| 11/11 [00:19<00:00,  1.79s/it]"
     ]
    },
    {
     "name": "stdout",
     "output_type": "stream",
     "text": [
      "\n",
      "Validation Progress: \n"
     ]
    },
    {
     "name": "stderr",
     "output_type": "stream",
     "text": [
      "\n",
      "100%|██████████| 3/3 [00:03<00:00,  1.27s/it]\n"
     ]
    },
    {
     "name": "stdout",
     "output_type": "stream",
     "text": [
      "\n",
      "Epoch 3 result: \n",
      "Learning Rate:  [5e-05]\n",
      "Avg loss (train): 0.0140\n",
      "Avg acc (train): 0.0965\n",
      "Avg loss (val): 0.0153\n",
      "Avg acc (val): 0.0997\n",
      "----------\n",
      "\n",
      "Epoch 4/100\n",
      "----------\n",
      "Training Progress: \n"
     ]
    },
    {
     "name": "stderr",
     "output_type": "stream",
     "text": [
      "100%|██████████| 11/11 [00:19<00:00,  1.79s/it]"
     ]
    },
    {
     "name": "stdout",
     "output_type": "stream",
     "text": [
      "\n",
      "Validation Progress: \n"
     ]
    },
    {
     "name": "stderr",
     "output_type": "stream",
     "text": [
      "\n",
      "100%|██████████| 3/3 [00:03<00:00,  1.20s/it]"
     ]
    },
    {
     "name": "stdout",
     "output_type": "stream",
     "text": [
      "\n",
      "Epoch 4 result: \n",
      "Learning Rate:  [5e-05]\n",
      "Avg loss (train): 0.0139\n",
      "Avg acc (train): 0.1180\n",
      "Avg loss (val): 0.0153\n",
      "Avg acc (val): 0.0906\n",
      "----------\n",
      "\n",
      "Epoch 5/100\n",
      "----------\n",
      "Training Progress: \n"
     ]
    },
    {
     "name": "stderr",
     "output_type": "stream",
     "text": [
      "\n",
      "100%|██████████| 11/11 [00:19<00:00,  1.78s/it]"
     ]
    },
    {
     "name": "stdout",
     "output_type": "stream",
     "text": [
      "\n",
      "Validation Progress: \n"
     ]
    },
    {
     "name": "stderr",
     "output_type": "stream",
     "text": [
      "\n",
      "100%|██████████| 3/3 [00:03<00:00,  1.21s/it]\n"
     ]
    },
    {
     "name": "stdout",
     "output_type": "stream",
     "text": [
      "\n",
      "Epoch 5 result: \n",
      "Learning Rate:  [5e-05]\n",
      "Avg loss (train): 0.0139\n",
      "Avg acc (train): 0.1266\n",
      "Avg loss (val): 0.0152\n",
      "Avg acc (val): 0.1284\n",
      "----------\n",
      "\n",
      "Epoch 6/100\n",
      "----------\n",
      "Training Progress: \n"
     ]
    },
    {
     "name": "stderr",
     "output_type": "stream",
     "text": [
      "100%|██████████| 11/11 [00:20<00:00,  1.82s/it]"
     ]
    },
    {
     "name": "stdout",
     "output_type": "stream",
     "text": [
      "\n",
      "Validation Progress: \n"
     ]
    },
    {
     "name": "stderr",
     "output_type": "stream",
     "text": [
      "\n",
      "100%|██████████| 3/3 [00:03<00:00,  1.25s/it]\n"
     ]
    },
    {
     "name": "stdout",
     "output_type": "stream",
     "text": [
      "\n",
      "Epoch 6 result: \n",
      "Learning Rate:  [5e-05]\n",
      "Avg loss (train): 0.0139\n",
      "Avg acc (train): 0.1289\n",
      "Avg loss (val): 0.0152\n",
      "Avg acc (val): 0.1405\n",
      "----------\n",
      "\n",
      "Epoch 7/100\n",
      "----------\n",
      "Training Progress: \n"
     ]
    },
    {
     "name": "stderr",
     "output_type": "stream",
     "text": [
      "100%|██████████| 11/11 [00:19<00:00,  1.80s/it]"
     ]
    },
    {
     "name": "stdout",
     "output_type": "stream",
     "text": [
      "\n",
      "Validation Progress: \n"
     ]
    },
    {
     "name": "stderr",
     "output_type": "stream",
     "text": [
      "\n",
      "100%|██████████| 3/3 [00:03<00:00,  1.26s/it]\n"
     ]
    },
    {
     "name": "stdout",
     "output_type": "stream",
     "text": [
      "\n",
      "Epoch 7 result: \n",
      "Learning Rate:  [5e-05]\n",
      "Avg loss (train): 0.0138\n",
      "Avg acc (train): 0.1504\n",
      "Avg loss (val): 0.0152\n",
      "Avg acc (val): 0.1435\n",
      "----------\n",
      "\n",
      "Epoch 8/100\n",
      "----------\n",
      "Training Progress: \n"
     ]
    },
    {
     "name": "stderr",
     "output_type": "stream",
     "text": [
      "100%|██████████| 11/11 [00:19<00:00,  1.79s/it]"
     ]
    },
    {
     "name": "stdout",
     "output_type": "stream",
     "text": [
      "\n",
      "Validation Progress: \n"
     ]
    },
    {
     "name": "stderr",
     "output_type": "stream",
     "text": [
      "\n",
      "100%|██████████| 3/3 [00:03<00:00,  1.25s/it]"
     ]
    },
    {
     "name": "stdout",
     "output_type": "stream",
     "text": [
      "\n",
      "Epoch 8 result: \n",
      "Learning Rate:  [5e-05]\n",
      "Avg loss (train): 0.0137\n",
      "Avg acc (train): 0.1681\n",
      "Avg loss (val): 0.0152\n",
      "Avg acc (val): 0.1344\n",
      "----------\n",
      "\n",
      "Epoch 9/100\n",
      "----------\n",
      "Training Progress: \n"
     ]
    },
    {
     "name": "stderr",
     "output_type": "stream",
     "text": [
      "\n",
      "100%|██████████| 11/11 [00:19<00:00,  1.77s/it]"
     ]
    },
    {
     "name": "stdout",
     "output_type": "stream",
     "text": [
      "\n",
      "Validation Progress: \n"
     ]
    },
    {
     "name": "stderr",
     "output_type": "stream",
     "text": [
      "\n",
      "100%|██████████| 3/3 [00:03<00:00,  1.23s/it]\n"
     ]
    },
    {
     "name": "stdout",
     "output_type": "stream",
     "text": [
      "\n",
      "Epoch 9 result: \n",
      "Learning Rate:  [5e-05]\n",
      "Avg loss (train): 0.0137\n",
      "Avg acc (train): 0.1730\n",
      "Avg loss (val): 0.0150\n",
      "Avg acc (val): 0.1586\n",
      "----------\n",
      "\n",
      "Epoch 10/100\n",
      "----------\n",
      "Training Progress: \n"
     ]
    },
    {
     "name": "stderr",
     "output_type": "stream",
     "text": [
      "100%|██████████| 11/11 [00:20<00:00,  1.83s/it]"
     ]
    },
    {
     "name": "stdout",
     "output_type": "stream",
     "text": [
      "\n",
      "Validation Progress: \n"
     ]
    },
    {
     "name": "stderr",
     "output_type": "stream",
     "text": [
      "\n",
      "100%|██████████| 3/3 [00:03<00:00,  1.22s/it]\n"
     ]
    },
    {
     "name": "stdout",
     "output_type": "stream",
     "text": [
      "\n",
      "Epoch 10 result: \n",
      "Learning Rate:  [5e-05]\n",
      "Avg loss (train): 0.0137\n",
      "Avg acc (train): 0.1775\n",
      "Avg loss (val): 0.0149\n",
      "Avg acc (val): 0.1949\n",
      "----------\n",
      "\n",
      "Epoch 11/100\n",
      "----------\n",
      "Training Progress: \n"
     ]
    },
    {
     "name": "stderr",
     "output_type": "stream",
     "text": [
      "100%|██████████| 11/11 [00:19<00:00,  1.81s/it]"
     ]
    },
    {
     "name": "stdout",
     "output_type": "stream",
     "text": [
      "\n",
      "Validation Progress: \n"
     ]
    },
    {
     "name": "stderr",
     "output_type": "stream",
     "text": [
      "\n",
      "100%|██████████| 3/3 [00:03<00:00,  1.22s/it]\n"
     ]
    },
    {
     "name": "stdout",
     "output_type": "stream",
     "text": [
      "\n",
      "Epoch 11 result: \n",
      "Learning Rate:  [5e-05]\n",
      "Avg loss (train): 0.0136\n",
      "Avg acc (train): 0.1986\n",
      "Avg loss (val): 0.0149\n",
      "Avg acc (val): 0.2069\n",
      "----------\n",
      "\n",
      "Epoch 12/100\n",
      "----------\n",
      "Training Progress: \n"
     ]
    },
    {
     "name": "stderr",
     "output_type": "stream",
     "text": [
      "100%|██████████| 11/11 [00:20<00:00,  1.83s/it]"
     ]
    },
    {
     "name": "stdout",
     "output_type": "stream",
     "text": [
      "\n",
      "Validation Progress: \n"
     ]
    },
    {
     "name": "stderr",
     "output_type": "stream",
     "text": [
      "\n",
      "100%|██████████| 3/3 [00:03<00:00,  1.28s/it]"
     ]
    },
    {
     "name": "stdout",
     "output_type": "stream",
     "text": [
      "\n",
      "Epoch 12 result: \n",
      "Learning Rate:  [5e-05]\n",
      "Avg loss (train): 0.0135\n",
      "Avg acc (train): 0.2262\n",
      "Avg loss (val): 0.0149\n",
      "Avg acc (val): 0.2024\n",
      "----------\n",
      "\n",
      "Epoch 13/100\n",
      "----------\n",
      "Training Progress: \n"
     ]
    },
    {
     "name": "stderr",
     "output_type": "stream",
     "text": [
      "\n",
      "100%|██████████| 11/11 [00:20<00:00,  1.86s/it]"
     ]
    },
    {
     "name": "stdout",
     "output_type": "stream",
     "text": [
      "\n",
      "Validation Progress: \n"
     ]
    },
    {
     "name": "stderr",
     "output_type": "stream",
     "text": [
      "\n",
      "100%|██████████| 3/3 [00:03<00:00,  1.28s/it]\n"
     ]
    },
    {
     "name": "stdout",
     "output_type": "stream",
     "text": [
      "\n",
      "Epoch 13 result: \n",
      "Learning Rate:  [5e-05]\n",
      "Avg loss (train): 0.0135\n",
      "Avg acc (train): 0.2284\n",
      "Avg loss (val): 0.0147\n",
      "Avg acc (val): 0.2417\n",
      "----------\n",
      "\n",
      "Epoch 14/100\n",
      "----------\n",
      "Training Progress: \n"
     ]
    },
    {
     "name": "stderr",
     "output_type": "stream",
     "text": [
      "100%|██████████| 11/11 [00:19<00:00,  1.80s/it]"
     ]
    },
    {
     "name": "stdout",
     "output_type": "stream",
     "text": [
      "\n",
      "Validation Progress: \n"
     ]
    },
    {
     "name": "stderr",
     "output_type": "stream",
     "text": [
      "\n",
      "100%|██████████| 3/3 [00:03<00:00,  1.23s/it]\n"
     ]
    },
    {
     "name": "stdout",
     "output_type": "stream",
     "text": [
      "\n",
      "Epoch 14 result: \n",
      "Learning Rate:  [5e-05]\n",
      "Avg loss (train): 0.0134\n",
      "Avg acc (train): 0.2424\n",
      "Avg loss (val): 0.0147\n",
      "Avg acc (val): 0.2477\n",
      "----------\n",
      "\n",
      "Epoch 15/100\n",
      "----------\n",
      "Training Progress: \n"
     ]
    },
    {
     "name": "stderr",
     "output_type": "stream",
     "text": [
      "100%|██████████| 11/11 [00:19<00:00,  1.80s/it]"
     ]
    },
    {
     "name": "stdout",
     "output_type": "stream",
     "text": [
      "\n",
      "Validation Progress: \n"
     ]
    },
    {
     "name": "stderr",
     "output_type": "stream",
     "text": [
      "\n",
      "100%|██████████| 3/3 [00:03<00:00,  1.26s/it]"
     ]
    },
    {
     "name": "stdout",
     "output_type": "stream",
     "text": [
      "\n",
      "Epoch 15 result: \n",
      "Learning Rate:  [5e-05]\n",
      "Avg loss (train): 0.0134\n",
      "Avg acc (train): 0.2582\n",
      "Avg loss (val): 0.0147\n",
      "Avg acc (val): 0.2447\n",
      "----------\n",
      "\n",
      "Epoch 16/100\n",
      "----------\n",
      "Training Progress: \n"
     ]
    },
    {
     "name": "stderr",
     "output_type": "stream",
     "text": [
      "\n",
      "100%|██████████| 11/11 [00:20<00:00,  1.82s/it]"
     ]
    },
    {
     "name": "stdout",
     "output_type": "stream",
     "text": [
      "\n",
      "Validation Progress: \n"
     ]
    },
    {
     "name": "stderr",
     "output_type": "stream",
     "text": [
      "\n",
      "100%|██████████| 3/3 [00:03<00:00,  1.23s/it]"
     ]
    },
    {
     "name": "stdout",
     "output_type": "stream",
     "text": [
      "\n",
      "Epoch 16 result: \n",
      "Learning Rate:  [5e-05]\n",
      "Avg loss (train): 0.0134\n",
      "Avg acc (train): 0.2593\n",
      "Avg loss (val): 0.0147\n",
      "Avg acc (val): 0.2341\n",
      "----------\n",
      "\n",
      "Epoch 17/100\n",
      "----------\n",
      "Training Progress: \n"
     ]
    },
    {
     "name": "stderr",
     "output_type": "stream",
     "text": [
      "\n",
      "100%|██████████| 11/11 [00:20<00:00,  1.85s/it]"
     ]
    },
    {
     "name": "stdout",
     "output_type": "stream",
     "text": [
      "\n",
      "Validation Progress: \n"
     ]
    },
    {
     "name": "stderr",
     "output_type": "stream",
     "text": [
      "\n",
      "100%|██████████| 3/3 [00:03<00:00,  1.30s/it]"
     ]
    },
    {
     "name": "stdout",
     "output_type": "stream",
     "text": [
      "\n",
      "Epoch 17 result: \n",
      "Learning Rate:  [5e-05]\n",
      "Avg loss (train): 0.0134\n",
      "Avg acc (train): 0.2544\n",
      "Avg loss (val): 0.0148\n",
      "Avg acc (val): 0.2251\n",
      "----------\n",
      "\n",
      "Epoch 18/100\n",
      "----------\n",
      "Training Progress: \n"
     ]
    },
    {
     "name": "stderr",
     "output_type": "stream",
     "text": [
      "\n",
      "100%|██████████| 11/11 [00:20<00:00,  1.84s/it]"
     ]
    },
    {
     "name": "stdout",
     "output_type": "stream",
     "text": [
      "\n",
      "Validation Progress: \n"
     ]
    },
    {
     "name": "stderr",
     "output_type": "stream",
     "text": [
      "\n",
      "100%|██████████| 3/3 [00:03<00:00,  1.27s/it]\n"
     ]
    },
    {
     "name": "stdout",
     "output_type": "stream",
     "text": [
      "\n",
      "Epoch 18 result: \n",
      "Learning Rate:  [5e-05]\n",
      "Avg loss (train): 0.0134\n",
      "Avg acc (train): 0.2590\n",
      "Avg loss (val): 0.0147\n",
      "Avg acc (val): 0.2523\n",
      "----------\n",
      "\n",
      "Epoch 19/100\n",
      "----------\n",
      "Training Progress: \n"
     ]
    },
    {
     "name": "stderr",
     "output_type": "stream",
     "text": [
      "100%|██████████| 11/11 [00:20<00:00,  1.82s/it]"
     ]
    },
    {
     "name": "stdout",
     "output_type": "stream",
     "text": [
      "\n",
      "Validation Progress: \n"
     ]
    },
    {
     "name": "stderr",
     "output_type": "stream",
     "text": [
      "\n",
      "100%|██████████| 3/3 [00:03<00:00,  1.24s/it]"
     ]
    },
    {
     "name": "stdout",
     "output_type": "stream",
     "text": [
      "\n",
      "Epoch 19 result: \n",
      "Learning Rate:  [5e-05]\n",
      "Avg loss (train): 0.0133\n",
      "Avg acc (train): 0.2744\n",
      "Avg loss (val): 0.0147\n",
      "Avg acc (val): 0.2523\n",
      "----------\n",
      "\n",
      "Epoch 20/100\n",
      "----------\n",
      "Training Progress: \n"
     ]
    },
    {
     "name": "stderr",
     "output_type": "stream",
     "text": [
      "\n",
      "100%|██████████| 11/11 [00:19<00:00,  1.81s/it]"
     ]
    },
    {
     "name": "stdout",
     "output_type": "stream",
     "text": [
      "\n",
      "Validation Progress: \n"
     ]
    },
    {
     "name": "stderr",
     "output_type": "stream",
     "text": [
      "\n",
      "100%|██████████| 3/3 [00:03<00:00,  1.24s/it]"
     ]
    },
    {
     "name": "stdout",
     "output_type": "stream",
     "text": [
      "\n",
      "Epoch 20 result: \n",
      "Learning Rate:  [5e-05]\n",
      "Avg loss (train): 0.0133\n",
      "Avg acc (train): 0.2752\n",
      "Avg loss (val): 0.0147\n",
      "Avg acc (val): 0.2462\n",
      "----------\n",
      "\n",
      "Epoch 21/100\n",
      "----------\n",
      "Training Progress: \n"
     ]
    },
    {
     "name": "stderr",
     "output_type": "stream",
     "text": [
      "\n",
      "100%|██████████| 11/11 [00:19<00:00,  1.82s/it]"
     ]
    },
    {
     "name": "stdout",
     "output_type": "stream",
     "text": [
      "\n",
      "Validation Progress: \n"
     ]
    },
    {
     "name": "stderr",
     "output_type": "stream",
     "text": [
      "\n",
      "100%|██████████| 3/3 [00:03<00:00,  1.27s/it]\n"
     ]
    },
    {
     "name": "stdout",
     "output_type": "stream",
     "text": [
      "\n",
      "Epoch 21 result: \n",
      "Learning Rate:  [5e-05]\n",
      "Avg loss (train): 0.0132\n",
      "Avg acc (train): 0.2936\n",
      "Avg loss (val): 0.0146\n",
      "Avg acc (val): 0.2734\n",
      "----------\n",
      "\n",
      "Epoch 22/100\n",
      "----------\n",
      "Training Progress: \n"
     ]
    },
    {
     "name": "stderr",
     "output_type": "stream",
     "text": [
      "100%|██████████| 11/11 [00:19<00:00,  1.80s/it]"
     ]
    },
    {
     "name": "stdout",
     "output_type": "stream",
     "text": [
      "\n",
      "Validation Progress: \n"
     ]
    },
    {
     "name": "stderr",
     "output_type": "stream",
     "text": [
      "\n",
      "100%|██████████| 3/3 [00:03<00:00,  1.23s/it]\n"
     ]
    },
    {
     "name": "stdout",
     "output_type": "stream",
     "text": [
      "\n",
      "Epoch 22 result: \n",
      "Learning Rate:  [5e-05]\n",
      "Avg loss (train): 0.0132\n",
      "Avg acc (train): 0.2906\n",
      "Avg loss (val): 0.0145\n",
      "Avg acc (val): 0.2749\n",
      "----------\n",
      "\n",
      "Epoch 23/100\n",
      "----------\n",
      "Training Progress: \n"
     ]
    },
    {
     "name": "stderr",
     "output_type": "stream",
     "text": [
      "100%|██████████| 11/11 [00:19<00:00,  1.79s/it]"
     ]
    },
    {
     "name": "stdout",
     "output_type": "stream",
     "text": [
      "\n",
      "Validation Progress: \n"
     ]
    },
    {
     "name": "stderr",
     "output_type": "stream",
     "text": [
      "\n",
      "100%|██████████| 3/3 [00:03<00:00,  1.23s/it]"
     ]
    },
    {
     "name": "stdout",
     "output_type": "stream",
     "text": [
      "\n",
      "Epoch 23 result: \n",
      "Learning Rate:  [5e-05]\n",
      "Avg loss (train): 0.0132\n",
      "Avg acc (train): 0.3034\n",
      "Avg loss (val): 0.0146\n",
      "Avg acc (val): 0.2719\n",
      "----------\n",
      "\n",
      "Epoch 24/100\n",
      "----------\n",
      "Training Progress: \n"
     ]
    },
    {
     "name": "stderr",
     "output_type": "stream",
     "text": [
      "\n",
      "100%|██████████| 11/11 [00:19<00:00,  1.80s/it]"
     ]
    },
    {
     "name": "stdout",
     "output_type": "stream",
     "text": [
      "\n",
      "Validation Progress: \n"
     ]
    },
    {
     "name": "stderr",
     "output_type": "stream",
     "text": [
      "\n",
      "100%|██████████| 3/3 [00:03<00:00,  1.24s/it]"
     ]
    },
    {
     "name": "stdout",
     "output_type": "stream",
     "text": [
      "\n",
      "Epoch 24 result: \n",
      "Learning Rate:  [5e-05]\n",
      "Avg loss (train): 0.0131\n",
      "Avg acc (train): 0.3155\n",
      "Avg loss (val): 0.0146\n",
      "Avg acc (val): 0.2644\n",
      "----------\n",
      "\n",
      "Epoch 25/100\n",
      "----------\n",
      "Training Progress: \n"
     ]
    },
    {
     "name": "stderr",
     "output_type": "stream",
     "text": [
      "\n",
      "100%|██████████| 11/11 [00:19<00:00,  1.80s/it]"
     ]
    },
    {
     "name": "stdout",
     "output_type": "stream",
     "text": [
      "\n",
      "Validation Progress: \n"
     ]
    },
    {
     "name": "stderr",
     "output_type": "stream",
     "text": [
      "\n",
      "100%|██████████| 3/3 [00:03<00:00,  1.28s/it]\n"
     ]
    },
    {
     "name": "stdout",
     "output_type": "stream",
     "text": [
      "\n",
      "Epoch 25 result: \n",
      "Learning Rate:  [5e-05]\n",
      "Avg loss (train): 0.0131\n",
      "Avg acc (train): 0.3253\n",
      "Avg loss (val): 0.0145\n",
      "Avg acc (val): 0.2855\n",
      "----------\n",
      "\n",
      "Epoch 26/100\n",
      "----------\n",
      "Training Progress: \n"
     ]
    },
    {
     "name": "stderr",
     "output_type": "stream",
     "text": [
      "100%|██████████| 11/11 [00:19<00:00,  1.78s/it]"
     ]
    },
    {
     "name": "stdout",
     "output_type": "stream",
     "text": [
      "\n",
      "Validation Progress: \n"
     ]
    },
    {
     "name": "stderr",
     "output_type": "stream",
     "text": [
      "\n",
      "100%|██████████| 3/3 [00:03<00:00,  1.24s/it]\n"
     ]
    },
    {
     "name": "stdout",
     "output_type": "stream",
     "text": [
      "\n",
      "Epoch 26 result: \n",
      "Learning Rate:  [5e-05]\n",
      "Avg loss (train): 0.0131\n",
      "Avg acc (train): 0.3332\n",
      "Avg loss (val): 0.0145\n",
      "Avg acc (val): 0.2915\n",
      "----------\n",
      "\n",
      "Epoch 27/100\n",
      "----------\n",
      "Training Progress: \n"
     ]
    },
    {
     "name": "stderr",
     "output_type": "stream",
     "text": [
      "100%|██████████| 11/11 [00:19<00:00,  1.80s/it]"
     ]
    },
    {
     "name": "stdout",
     "output_type": "stream",
     "text": [
      "\n",
      "Validation Progress: \n"
     ]
    },
    {
     "name": "stderr",
     "output_type": "stream",
     "text": [
      "\n",
      "100%|██████████| 3/3 [00:03<00:00,  1.28s/it]\n"
     ]
    },
    {
     "name": "stdout",
     "output_type": "stream",
     "text": [
      "\n",
      "Epoch 27 result: \n",
      "Learning Rate:  [5e-05]\n",
      "Avg loss (train): 0.0130\n",
      "Avg acc (train): 0.3415\n",
      "Avg loss (val): 0.0145\n",
      "Avg acc (val): 0.2946\n",
      "----------\n",
      "\n",
      "Epoch 28/100\n",
      "----------\n",
      "Training Progress: \n"
     ]
    },
    {
     "name": "stderr",
     "output_type": "stream",
     "text": [
      "100%|██████████| 11/11 [00:19<00:00,  1.79s/it]"
     ]
    },
    {
     "name": "stdout",
     "output_type": "stream",
     "text": [
      "\n",
      "Validation Progress: \n"
     ]
    },
    {
     "name": "stderr",
     "output_type": "stream",
     "text": [
      "\n",
      "100%|██████████| 3/3 [00:03<00:00,  1.24s/it]\n"
     ]
    },
    {
     "name": "stdout",
     "output_type": "stream",
     "text": [
      "\n",
      "Epoch 28 result: \n",
      "Learning Rate:  [5e-05]\n",
      "Avg loss (train): 0.0130\n",
      "Avg acc (train): 0.3438\n",
      "Avg loss (val): 0.0144\n",
      "Avg acc (val): 0.2961\n",
      "----------\n",
      "\n",
      "Epoch 29/100\n",
      "----------\n",
      "Training Progress: \n"
     ]
    },
    {
     "name": "stderr",
     "output_type": "stream",
     "text": [
      "100%|██████████| 11/11 [00:19<00:00,  1.79s/it]"
     ]
    },
    {
     "name": "stdout",
     "output_type": "stream",
     "text": [
      "\n",
      "Validation Progress: \n"
     ]
    },
    {
     "name": "stderr",
     "output_type": "stream",
     "text": [
      "\n",
      "100%|██████████| 3/3 [00:03<00:00,  1.25s/it]\n"
     ]
    },
    {
     "name": "stdout",
     "output_type": "stream",
     "text": [
      "\n",
      "Epoch 29 result: \n",
      "Learning Rate:  [5e-05]\n",
      "Avg loss (train): 0.0130\n",
      "Avg acc (train): 0.3494\n",
      "Avg loss (val): 0.0144\n",
      "Avg acc (val): 0.3097\n",
      "----------\n",
      "\n",
      "Epoch 30/100\n",
      "----------\n",
      "Training Progress: \n"
     ]
    },
    {
     "name": "stderr",
     "output_type": "stream",
     "text": [
      "100%|██████████| 11/11 [00:19<00:00,  1.79s/it]"
     ]
    },
    {
     "name": "stdout",
     "output_type": "stream",
     "text": [
      "\n",
      "Validation Progress: \n"
     ]
    },
    {
     "name": "stderr",
     "output_type": "stream",
     "text": [
      "\n",
      "100%|██████████| 3/3 [00:03<00:00,  1.21s/it]\n"
     ]
    },
    {
     "name": "stdout",
     "output_type": "stream",
     "text": [
      "\n",
      "Epoch 30 result: \n",
      "Learning Rate:  [5e-05]\n",
      "Avg loss (train): 0.0130\n",
      "Avg acc (train): 0.3607\n",
      "Avg loss (val): 0.0144\n",
      "Avg acc (val): 0.3172\n",
      "----------\n",
      "\n",
      "Epoch 31/100\n",
      "----------\n",
      "Training Progress: \n"
     ]
    },
    {
     "name": "stderr",
     "output_type": "stream",
     "text": [
      "100%|██████████| 11/11 [00:19<00:00,  1.81s/it]"
     ]
    },
    {
     "name": "stdout",
     "output_type": "stream",
     "text": [
      "\n",
      "Validation Progress: \n"
     ]
    },
    {
     "name": "stderr",
     "output_type": "stream",
     "text": [
      "\n",
      "100%|██████████| 3/3 [00:03<00:00,  1.27s/it]\n"
     ]
    },
    {
     "name": "stdout",
     "output_type": "stream",
     "text": [
      "\n",
      "Epoch 31 result: \n",
      "Learning Rate:  [5e-05]\n",
      "Avg loss (train): 0.0129\n",
      "Avg acc (train): 0.3694\n",
      "Avg loss (val): 0.0143\n",
      "Avg acc (val): 0.3202\n",
      "----------\n",
      "\n",
      "Epoch 32/100\n",
      "----------\n",
      "Training Progress: \n"
     ]
    },
    {
     "name": "stderr",
     "output_type": "stream",
     "text": [
      "100%|██████████| 11/11 [00:19<00:00,  1.78s/it]"
     ]
    },
    {
     "name": "stdout",
     "output_type": "stream",
     "text": [
      "\n",
      "Validation Progress: \n"
     ]
    },
    {
     "name": "stderr",
     "output_type": "stream",
     "text": [
      "\n",
      "100%|██████████| 3/3 [00:03<00:00,  1.24s/it]"
     ]
    },
    {
     "name": "stdout",
     "output_type": "stream",
     "text": [
      "\n",
      "Epoch 32 result: \n",
      "Learning Rate:  [5e-05]\n",
      "Avg loss (train): 0.0130\n",
      "Avg acc (train): 0.3705\n",
      "Avg loss (val): 0.0144\n",
      "Avg acc (val): 0.3112\n",
      "----------\n",
      "\n",
      "Epoch 33/100\n",
      "----------\n",
      "Training Progress: \n"
     ]
    },
    {
     "name": "stderr",
     "output_type": "stream",
     "text": [
      "\n",
      "100%|██████████| 11/11 [00:19<00:00,  1.78s/it]"
     ]
    },
    {
     "name": "stdout",
     "output_type": "stream",
     "text": [
      "\n",
      "Validation Progress: \n"
     ]
    },
    {
     "name": "stderr",
     "output_type": "stream",
     "text": [
      "\n",
      "100%|██████████| 3/3 [00:03<00:00,  1.24s/it]"
     ]
    },
    {
     "name": "stdout",
     "output_type": "stream",
     "text": [
      "\n",
      "Epoch 33 result: \n",
      "Learning Rate:  [5e-05]\n",
      "Avg loss (train): 0.0130\n",
      "Avg acc (train): 0.3671\n",
      "Avg loss (val): 0.0144\n",
      "Avg acc (val): 0.3036\n",
      "----------\n",
      "\n",
      "Epoch 34/100\n",
      "----------\n",
      "Training Progress: \n"
     ]
    },
    {
     "name": "stderr",
     "output_type": "stream",
     "text": [
      "\n",
      "100%|██████████| 11/11 [00:19<00:00,  1.78s/it]"
     ]
    },
    {
     "name": "stdout",
     "output_type": "stream",
     "text": [
      "\n",
      "Validation Progress: \n"
     ]
    },
    {
     "name": "stderr",
     "output_type": "stream",
     "text": [
      "\n",
      "100%|██████████| 3/3 [00:03<00:00,  1.23s/it]"
     ]
    },
    {
     "name": "stdout",
     "output_type": "stream",
     "text": [
      "\n",
      "Epoch 34 result: \n",
      "Learning Rate:  [5e-05]\n",
      "Avg loss (train): 0.0129\n",
      "Avg acc (train): 0.3777\n",
      "Avg loss (val): 0.0147\n",
      "Avg acc (val): 0.2432\n",
      "----------\n",
      "\n",
      "Epoch 35/100\n",
      "----------\n",
      "Training Progress: \n"
     ]
    },
    {
     "name": "stderr",
     "output_type": "stream",
     "text": [
      "\n",
      "100%|██████████| 11/11 [00:19<00:00,  1.77s/it]"
     ]
    },
    {
     "name": "stdout",
     "output_type": "stream",
     "text": [
      "\n",
      "Validation Progress: \n"
     ]
    },
    {
     "name": "stderr",
     "output_type": "stream",
     "text": [
      "\n",
      "100%|██████████| 3/3 [00:03<00:00,  1.23s/it]"
     ]
    },
    {
     "name": "stdout",
     "output_type": "stream",
     "text": [
      "\n",
      "Epoch 35 result: \n",
      "Learning Rate:  [5e-05]\n",
      "Avg loss (train): 0.0129\n",
      "Avg acc (train): 0.3826\n",
      "Avg loss (val): 0.0143\n",
      "Avg acc (val): 0.3202\n",
      "----------\n",
      "\n",
      "Epoch 36/100\n",
      "----------\n",
      "Training Progress: \n"
     ]
    },
    {
     "name": "stderr",
     "output_type": "stream",
     "text": [
      "\n",
      "100%|██████████| 11/11 [00:19<00:00,  1.78s/it]"
     ]
    },
    {
     "name": "stdout",
     "output_type": "stream",
     "text": [
      "\n",
      "Validation Progress: \n"
     ]
    },
    {
     "name": "stderr",
     "output_type": "stream",
     "text": [
      "\n",
      "100%|██████████| 3/3 [00:03<00:00,  1.25s/it]"
     ]
    },
    {
     "name": "stdout",
     "output_type": "stream",
     "text": [
      "\n",
      "Epoch 36 result: \n",
      "Learning Rate:  [5e-05]\n",
      "Avg loss (train): 0.0128\n",
      "Avg acc (train): 0.4044\n",
      "Avg loss (val): 0.0144\n",
      "Avg acc (val): 0.3097\n",
      "----------\n",
      "\n",
      "Epoch 37/100\n",
      "----------\n",
      "Training Progress: \n"
     ]
    },
    {
     "name": "stderr",
     "output_type": "stream",
     "text": [
      "\n",
      "100%|██████████| 11/11 [00:19<00:00,  1.78s/it]"
     ]
    },
    {
     "name": "stdout",
     "output_type": "stream",
     "text": [
      "\n",
      "Validation Progress: \n"
     ]
    },
    {
     "name": "stderr",
     "output_type": "stream",
     "text": [
      "\n",
      "100%|██████████| 3/3 [00:03<00:00,  1.25s/it]"
     ]
    },
    {
     "name": "stdout",
     "output_type": "stream",
     "text": [
      "\n",
      "Epoch 37 result: \n",
      "Learning Rate:  [5e-05]\n",
      "Avg loss (train): 0.0128\n",
      "Avg acc (train): 0.3950\n",
      "Avg loss (val): 0.0143\n",
      "Avg acc (val): 0.3142\n",
      "----------\n",
      "\n",
      "Epoch 38/100\n",
      "----------\n",
      "Training Progress: \n"
     ]
    },
    {
     "name": "stderr",
     "output_type": "stream",
     "text": [
      "\n",
      "100%|██████████| 11/11 [00:19<00:00,  1.78s/it]"
     ]
    },
    {
     "name": "stdout",
     "output_type": "stream",
     "text": [
      "\n",
      "Validation Progress: \n"
     ]
    },
    {
     "name": "stderr",
     "output_type": "stream",
     "text": [
      "\n",
      "100%|██████████| 3/3 [00:03<00:00,  1.25s/it]\n"
     ]
    },
    {
     "name": "stdout",
     "output_type": "stream",
     "text": [
      "\n",
      "Epoch 38 result: \n",
      "Learning Rate:  [5e-05]\n",
      "Avg loss (train): 0.0128\n",
      "Avg acc (train): 0.3928\n",
      "Avg loss (val): 0.0144\n",
      "Avg acc (val): 0.3248\n",
      "----------\n",
      "\n",
      "Epoch 39/100\n",
      "----------\n",
      "Training Progress: \n"
     ]
    },
    {
     "name": "stderr",
     "output_type": "stream",
     "text": [
      "100%|██████████| 11/11 [00:19<00:00,  1.78s/it]"
     ]
    },
    {
     "name": "stdout",
     "output_type": "stream",
     "text": [
      "\n",
      "Validation Progress: \n"
     ]
    },
    {
     "name": "stderr",
     "output_type": "stream",
     "text": [
      "\n",
      "100%|██████████| 3/3 [00:03<00:00,  1.19s/it]\n"
     ]
    },
    {
     "name": "stdout",
     "output_type": "stream",
     "text": [
      "\n",
      "Epoch 39 result: \n",
      "Learning Rate:  [5e-05]\n",
      "Avg loss (train): 0.0128\n",
      "Avg acc (train): 0.4109\n",
      "Avg loss (val): 0.0144\n",
      "Avg acc (val): 0.3338\n",
      "----------\n",
      "\n",
      "Epoch 40/100\n",
      "----------\n",
      "Training Progress: \n"
     ]
    },
    {
     "name": "stderr",
     "output_type": "stream",
     "text": [
      "100%|██████████| 11/11 [00:19<00:00,  1.80s/it]"
     ]
    },
    {
     "name": "stdout",
     "output_type": "stream",
     "text": [
      "\n",
      "Validation Progress: \n"
     ]
    },
    {
     "name": "stderr",
     "output_type": "stream",
     "text": [
      "\n",
      "100%|██████████| 3/3 [00:03<00:00,  1.22s/it]"
     ]
    },
    {
     "name": "stdout",
     "output_type": "stream",
     "text": [
      "\n",
      "Epoch 40 result: \n",
      "Learning Rate:  [5.000000000000001e-07]\n",
      "Avg loss (train): 0.0127\n",
      "Avg acc (train): 0.4191\n",
      "Avg loss (val): 0.0143\n",
      "Avg acc (val): 0.3278\n",
      "----------\n",
      "\n",
      "Epoch 41/100\n",
      "----------\n",
      "Training Progress: \n"
     ]
    },
    {
     "name": "stderr",
     "output_type": "stream",
     "text": [
      "\n",
      "100%|██████████| 11/11 [00:19<00:00,  1.79s/it]"
     ]
    },
    {
     "name": "stdout",
     "output_type": "stream",
     "text": [
      "\n",
      "Validation Progress: \n"
     ]
    },
    {
     "name": "stderr",
     "output_type": "stream",
     "text": [
      "\n",
      "100%|██████████| 3/3 [00:03<00:00,  1.30s/it]"
     ]
    },
    {
     "name": "stdout",
     "output_type": "stream",
     "text": [
      "\n",
      "Epoch 41 result: \n",
      "Learning Rate:  [5e-06]\n",
      "Avg loss (train): 0.0127\n",
      "Avg acc (train): 0.4248\n",
      "Avg loss (val): 0.0143\n",
      "Avg acc (val): 0.3338\n",
      "----------\n",
      "\n",
      "Epoch 42/100\n",
      "----------\n",
      "Training Progress: \n"
     ]
    },
    {
     "name": "stderr",
     "output_type": "stream",
     "text": [
      "\n",
      "100%|██████████| 11/11 [00:19<00:00,  1.80s/it]"
     ]
    },
    {
     "name": "stdout",
     "output_type": "stream",
     "text": [
      "\n",
      "Validation Progress: \n"
     ]
    },
    {
     "name": "stderr",
     "output_type": "stream",
     "text": [
      "\n",
      "100%|██████████| 3/3 [00:03<00:00,  1.25s/it]\n"
     ]
    },
    {
     "name": "stdout",
     "output_type": "stream",
     "text": [
      "\n",
      "Epoch 42 result: \n",
      "Learning Rate:  [5e-06]\n",
      "Avg loss (train): 0.0127\n",
      "Avg acc (train): 0.4301\n",
      "Avg loss (val): 0.0143\n",
      "Avg acc (val): 0.3353\n",
      "----------\n",
      "\n",
      "Epoch 43/100\n",
      "----------\n",
      "Training Progress: \n"
     ]
    },
    {
     "name": "stderr",
     "output_type": "stream",
     "text": [
      "100%|██████████| 11/11 [00:19<00:00,  1.80s/it]"
     ]
    },
    {
     "name": "stdout",
     "output_type": "stream",
     "text": [
      "\n",
      "Validation Progress: \n"
     ]
    },
    {
     "name": "stderr",
     "output_type": "stream",
     "text": [
      "\n",
      "100%|██████████| 3/3 [00:03<00:00,  1.27s/it]"
     ]
    },
    {
     "name": "stdout",
     "output_type": "stream",
     "text": [
      "\n",
      "Epoch 43 result: \n",
      "Learning Rate:  [5e-06]\n",
      "Avg loss (train): 0.0127\n",
      "Avg acc (train): 0.4350\n",
      "Avg loss (val): 0.0143\n",
      "Avg acc (val): 0.3338\n",
      "----------\n",
      "\n",
      "Epoch 44/100\n",
      "----------\n",
      "Training Progress: \n"
     ]
    },
    {
     "name": "stderr",
     "output_type": "stream",
     "text": [
      "\n",
      "100%|██████████| 11/11 [00:19<00:00,  1.77s/it]"
     ]
    },
    {
     "name": "stdout",
     "output_type": "stream",
     "text": [
      "\n",
      "Validation Progress: \n"
     ]
    },
    {
     "name": "stderr",
     "output_type": "stream",
     "text": [
      "\n",
      "100%|██████████| 3/3 [00:03<00:00,  1.24s/it]\n"
     ]
    },
    {
     "name": "stdout",
     "output_type": "stream",
     "text": [
      "\n",
      "Epoch 44 result: \n",
      "Learning Rate:  [5e-06]\n",
      "Avg loss (train): 0.0127\n",
      "Avg acc (train): 0.4342\n",
      "Avg loss (val): 0.0143\n",
      "Avg acc (val): 0.3369\n",
      "----------\n",
      "\n",
      "Epoch 45/100\n",
      "----------\n",
      "Training Progress: \n"
     ]
    },
    {
     "name": "stderr",
     "output_type": "stream",
     "text": [
      "100%|██████████| 11/11 [00:20<00:00,  1.85s/it]"
     ]
    },
    {
     "name": "stdout",
     "output_type": "stream",
     "text": [
      "\n",
      "Validation Progress: \n"
     ]
    },
    {
     "name": "stderr",
     "output_type": "stream",
     "text": [
      "\n",
      "100%|██████████| 3/3 [00:03<00:00,  1.27s/it]\n"
     ]
    },
    {
     "name": "stdout",
     "output_type": "stream",
     "text": [
      "\n",
      "Epoch 45 result: \n",
      "Learning Rate:  [5e-06]\n",
      "Avg loss (train): 0.0127\n",
      "Avg acc (train): 0.4357\n",
      "Avg loss (val): 0.0143\n",
      "Avg acc (val): 0.3399\n",
      "----------\n",
      "\n",
      "Epoch 46/100\n",
      "----------\n",
      "Training Progress: \n"
     ]
    },
    {
     "name": "stderr",
     "output_type": "stream",
     "text": [
      "100%|██████████| 11/11 [00:20<00:00,  1.83s/it]"
     ]
    },
    {
     "name": "stdout",
     "output_type": "stream",
     "text": [
      "\n",
      "Validation Progress: \n"
     ]
    },
    {
     "name": "stderr",
     "output_type": "stream",
     "text": [
      "\n",
      "100%|██████████| 3/3 [00:03<00:00,  1.22s/it]\n"
     ]
    },
    {
     "name": "stdout",
     "output_type": "stream",
     "text": [
      "\n",
      "Epoch 46 result: \n",
      "Learning Rate:  [5e-06]\n",
      "Avg loss (train): 0.0127\n",
      "Avg acc (train): 0.4369\n",
      "Avg loss (val): 0.0143\n",
      "Avg acc (val): 0.3414\n",
      "----------\n",
      "\n",
      "Epoch 47/100\n",
      "----------\n",
      "Training Progress: \n"
     ]
    },
    {
     "name": "stderr",
     "output_type": "stream",
     "text": [
      "100%|██████████| 11/11 [00:19<00:00,  1.81s/it]"
     ]
    },
    {
     "name": "stdout",
     "output_type": "stream",
     "text": [
      "\n",
      "Validation Progress: \n"
     ]
    },
    {
     "name": "stderr",
     "output_type": "stream",
     "text": [
      "\n",
      "100%|██████████| 3/3 [00:03<00:00,  1.21s/it]"
     ]
    },
    {
     "name": "stdout",
     "output_type": "stream",
     "text": [
      "\n",
      "Epoch 47 result: \n",
      "Learning Rate:  [5e-06]\n",
      "Avg loss (train): 0.0127\n",
      "Avg acc (train): 0.4369\n",
      "Avg loss (val): 0.0143\n",
      "Avg acc (val): 0.3384\n",
      "----------\n",
      "\n",
      "Epoch 48/100\n",
      "----------\n",
      "Training Progress: \n"
     ]
    },
    {
     "name": "stderr",
     "output_type": "stream",
     "text": [
      "\n",
      "100%|██████████| 11/11 [00:19<00:00,  1.80s/it]"
     ]
    },
    {
     "name": "stdout",
     "output_type": "stream",
     "text": [
      "\n",
      "Validation Progress: \n"
     ]
    },
    {
     "name": "stderr",
     "output_type": "stream",
     "text": [
      "\n",
      "100%|██████████| 3/3 [00:03<00:00,  1.22s/it]"
     ]
    },
    {
     "name": "stdout",
     "output_type": "stream",
     "text": [
      "\n",
      "Epoch 48 result: \n",
      "Learning Rate:  [5e-06]\n",
      "Avg loss (train): 0.0126\n",
      "Avg acc (train): 0.4387\n",
      "Avg loss (val): 0.0142\n",
      "Avg acc (val): 0.3384\n",
      "----------\n",
      "\n",
      "Epoch 49/100\n",
      "----------\n",
      "Training Progress: \n"
     ]
    },
    {
     "name": "stderr",
     "output_type": "stream",
     "text": [
      "\n",
      "100%|██████████| 11/11 [00:19<00:00,  1.79s/it]"
     ]
    },
    {
     "name": "stdout",
     "output_type": "stream",
     "text": [
      "\n",
      "Validation Progress: \n"
     ]
    },
    {
     "name": "stderr",
     "output_type": "stream",
     "text": [
      "\n",
      "100%|██████████| 3/3 [00:03<00:00,  1.22s/it]"
     ]
    },
    {
     "name": "stdout",
     "output_type": "stream",
     "text": [
      "\n",
      "Epoch 49 result: \n",
      "Learning Rate:  [5e-06]\n",
      "Avg loss (train): 0.0126\n",
      "Avg acc (train): 0.4399\n",
      "Avg loss (val): 0.0142\n",
      "Avg acc (val): 0.3414\n",
      "----------\n",
      "\n",
      "Epoch 50/100\n",
      "----------\n",
      "Training Progress: \n"
     ]
    },
    {
     "name": "stderr",
     "output_type": "stream",
     "text": [
      "\n",
      "100%|██████████| 11/11 [00:19<00:00,  1.78s/it]"
     ]
    },
    {
     "name": "stdout",
     "output_type": "stream",
     "text": [
      "\n",
      "Validation Progress: \n"
     ]
    },
    {
     "name": "stderr",
     "output_type": "stream",
     "text": [
      "\n",
      "100%|██████████| 3/3 [00:03<00:00,  1.22s/it]"
     ]
    },
    {
     "name": "stdout",
     "output_type": "stream",
     "text": [
      "\n",
      "Epoch 50 result: \n",
      "Learning Rate:  [5e-06]\n",
      "Avg loss (train): 0.0126\n",
      "Avg acc (train): 0.4425\n",
      "Avg loss (val): 0.0143\n",
      "Avg acc (val): 0.3353\n",
      "----------\n",
      "\n",
      "Epoch 51/100\n",
      "----------\n",
      "Training Progress: \n"
     ]
    },
    {
     "name": "stderr",
     "output_type": "stream",
     "text": [
      "\n",
      "100%|██████████| 11/11 [00:19<00:00,  1.80s/it]"
     ]
    },
    {
     "name": "stdout",
     "output_type": "stream",
     "text": [
      "\n",
      "Validation Progress: \n"
     ]
    },
    {
     "name": "stderr",
     "output_type": "stream",
     "text": [
      "\n",
      "100%|██████████| 3/3 [00:03<00:00,  1.24s/it]"
     ]
    },
    {
     "name": "stdout",
     "output_type": "stream",
     "text": [
      "\n",
      "Epoch 51 result: \n",
      "Learning Rate:  [5e-06]\n",
      "Avg loss (train): 0.0126\n",
      "Avg acc (train): 0.4410\n",
      "Avg loss (val): 0.0143\n",
      "Avg acc (val): 0.3414\n",
      "----------\n",
      "\n",
      "Epoch 52/100\n",
      "----------\n",
      "Training Progress: \n"
     ]
    },
    {
     "name": "stderr",
     "output_type": "stream",
     "text": [
      "\n",
      "100%|██████████| 11/11 [00:19<00:00,  1.80s/it]"
     ]
    },
    {
     "name": "stdout",
     "output_type": "stream",
     "text": [
      "\n",
      "Validation Progress: \n"
     ]
    },
    {
     "name": "stderr",
     "output_type": "stream",
     "text": [
      "\n",
      "100%|██████████| 3/3 [00:03<00:00,  1.22s/it]"
     ]
    },
    {
     "name": "stdout",
     "output_type": "stream",
     "text": [
      "\n",
      "Epoch 52 result: \n",
      "Learning Rate:  [5e-06]\n",
      "Avg loss (train): 0.0126\n",
      "Avg acc (train): 0.4414\n",
      "Avg loss (val): 0.0143\n",
      "Avg acc (val): 0.3414\n",
      "----------\n",
      "\n",
      "Epoch 53/100\n",
      "----------\n",
      "Training Progress: \n"
     ]
    },
    {
     "name": "stderr",
     "output_type": "stream",
     "text": [
      "\n",
      "100%|██████████| 11/11 [00:19<00:00,  1.79s/it]"
     ]
    },
    {
     "name": "stdout",
     "output_type": "stream",
     "text": [
      "\n",
      "Validation Progress: \n"
     ]
    },
    {
     "name": "stderr",
     "output_type": "stream",
     "text": [
      "\n",
      "100%|██████████| 3/3 [00:03<00:00,  1.24s/it]"
     ]
    },
    {
     "name": "stdout",
     "output_type": "stream",
     "text": [
      "\n",
      "Epoch 53 result: \n",
      "Learning Rate:  [5e-06]\n",
      "Avg loss (train): 0.0126\n",
      "Avg acc (train): 0.4421\n",
      "Avg loss (val): 0.0142\n",
      "Avg acc (val): 0.3414\n",
      "----------\n",
      "\n",
      "Epoch 54/100\n",
      "----------\n",
      "Training Progress: \n"
     ]
    },
    {
     "name": "stderr",
     "output_type": "stream",
     "text": [
      "\n",
      "100%|██████████| 11/11 [00:19<00:00,  1.79s/it]"
     ]
    },
    {
     "name": "stdout",
     "output_type": "stream",
     "text": [
      "\n",
      "Validation Progress: \n"
     ]
    },
    {
     "name": "stderr",
     "output_type": "stream",
     "text": [
      "\n",
      "100%|██████████| 3/3 [00:03<00:00,  1.23s/it]\n"
     ]
    },
    {
     "name": "stdout",
     "output_type": "stream",
     "text": [
      "\n",
      "Epoch 54 result: \n",
      "Learning Rate:  [5e-06]\n",
      "Avg loss (train): 0.0126\n",
      "Avg acc (train): 0.4433\n",
      "Avg loss (val): 0.0142\n",
      "Avg acc (val): 0.3459\n",
      "----------\n",
      "\n",
      "Epoch 55/100\n",
      "----------\n",
      "Training Progress: \n"
     ]
    },
    {
     "name": "stderr",
     "output_type": "stream",
     "text": [
      "100%|██████████| 11/11 [00:19<00:00,  1.79s/it]"
     ]
    },
    {
     "name": "stdout",
     "output_type": "stream",
     "text": [
      "\n",
      "Validation Progress: \n"
     ]
    },
    {
     "name": "stderr",
     "output_type": "stream",
     "text": [
      "\n",
      "100%|██████████| 3/3 [00:03<00:00,  1.30s/it]"
     ]
    },
    {
     "name": "stdout",
     "output_type": "stream",
     "text": [
      "\n",
      "Epoch 55 result: \n",
      "Learning Rate:  [5e-06]\n",
      "Avg loss (train): 0.0126\n",
      "Avg acc (train): 0.4414\n",
      "Avg loss (val): 0.0142\n",
      "Avg acc (val): 0.3459\n",
      "----------\n",
      "\n",
      "Epoch 56/100\n",
      "----------\n",
      "Training Progress: \n"
     ]
    },
    {
     "name": "stderr",
     "output_type": "stream",
     "text": [
      "\n",
      "100%|██████████| 11/11 [00:19<00:00,  1.80s/it]"
     ]
    },
    {
     "name": "stdout",
     "output_type": "stream",
     "text": [
      "\n",
      "Validation Progress: \n"
     ]
    },
    {
     "name": "stderr",
     "output_type": "stream",
     "text": [
      "\n",
      "100%|██████████| 3/3 [00:03<00:00,  1.21s/it]\n"
     ]
    },
    {
     "name": "stdout",
     "output_type": "stream",
     "text": [
      "\n",
      "Epoch 56 result: \n",
      "Learning Rate:  [5e-06]\n",
      "Avg loss (train): 0.0126\n",
      "Avg acc (train): 0.4489\n",
      "Avg loss (val): 0.0142\n",
      "Avg acc (val): 0.3489\n",
      "----------\n",
      "\n",
      "Epoch 57/100\n",
      "----------\n",
      "Training Progress: \n"
     ]
    },
    {
     "name": "stderr",
     "output_type": "stream",
     "text": [
      "100%|██████████| 11/11 [00:19<00:00,  1.81s/it]"
     ]
    },
    {
     "name": "stdout",
     "output_type": "stream",
     "text": [
      "\n",
      "Validation Progress: \n"
     ]
    },
    {
     "name": "stderr",
     "output_type": "stream",
     "text": [
      "\n",
      "100%|██████████| 3/3 [00:03<00:00,  1.23s/it]"
     ]
    },
    {
     "name": "stdout",
     "output_type": "stream",
     "text": [
      "\n",
      "Epoch 57 result: \n",
      "Learning Rate:  [5e-06]\n",
      "Avg loss (train): 0.0126\n",
      "Avg acc (train): 0.4470\n",
      "Avg loss (val): 0.0142\n",
      "Avg acc (val): 0.3474\n",
      "----------\n",
      "\n",
      "Epoch 58/100\n",
      "----------\n",
      "Training Progress: \n"
     ]
    },
    {
     "name": "stderr",
     "output_type": "stream",
     "text": [
      "\n",
      "100%|██████████| 11/11 [00:19<00:00,  1.78s/it]"
     ]
    },
    {
     "name": "stdout",
     "output_type": "stream",
     "text": [
      "\n",
      "Validation Progress: \n"
     ]
    },
    {
     "name": "stderr",
     "output_type": "stream",
     "text": [
      "\n",
      "100%|██████████| 3/3 [00:03<00:00,  1.27s/it]"
     ]
    },
    {
     "name": "stdout",
     "output_type": "stream",
     "text": [
      "\n",
      "Epoch 58 result: \n",
      "Learning Rate:  [5e-06]\n",
      "Avg loss (train): 0.0126\n",
      "Avg acc (train): 0.4474\n",
      "Avg loss (val): 0.0142\n",
      "Avg acc (val): 0.3459\n",
      "----------\n",
      "\n",
      "Epoch 59/100\n",
      "----------\n",
      "Training Progress: \n"
     ]
    },
    {
     "name": "stderr",
     "output_type": "stream",
     "text": [
      "\n",
      "100%|██████████| 11/11 [00:19<00:00,  1.78s/it]"
     ]
    },
    {
     "name": "stdout",
     "output_type": "stream",
     "text": [
      "\n",
      "Validation Progress: \n"
     ]
    },
    {
     "name": "stderr",
     "output_type": "stream",
     "text": [
      "\n",
      "100%|██████████| 3/3 [00:03<00:00,  1.25s/it]"
     ]
    },
    {
     "name": "stdout",
     "output_type": "stream",
     "text": [
      "\n",
      "Epoch 59 result: \n",
      "Learning Rate:  [5e-06]\n",
      "Avg loss (train): 0.0126\n",
      "Avg acc (train): 0.4478\n",
      "Avg loss (val): 0.0142\n",
      "Avg acc (val): 0.3474\n",
      "----------\n",
      "\n",
      "Epoch 60/100\n",
      "----------\n",
      "Training Progress: \n"
     ]
    },
    {
     "name": "stderr",
     "output_type": "stream",
     "text": [
      "\n",
      "100%|██████████| 11/11 [00:19<00:00,  1.78s/it]"
     ]
    },
    {
     "name": "stdout",
     "output_type": "stream",
     "text": [
      "\n",
      "Validation Progress: \n"
     ]
    },
    {
     "name": "stderr",
     "output_type": "stream",
     "text": [
      "\n",
      "100%|██████████| 3/3 [00:03<00:00,  1.26s/it]"
     ]
    },
    {
     "name": "stdout",
     "output_type": "stream",
     "text": [
      "\n",
      "Epoch 60 result: \n",
      "Learning Rate:  [5e-06]\n",
      "Avg loss (train): 0.0126\n",
      "Avg acc (train): 0.4485\n",
      "Avg loss (val): 0.0142\n",
      "Avg acc (val): 0.3474\n",
      "----------\n",
      "\n",
      "Epoch 61/100\n",
      "----------\n",
      "Training Progress: \n"
     ]
    },
    {
     "name": "stderr",
     "output_type": "stream",
     "text": [
      "\n",
      "100%|██████████| 11/11 [00:19<00:00,  1.77s/it]"
     ]
    },
    {
     "name": "stdout",
     "output_type": "stream",
     "text": [
      "\n",
      "Validation Progress: \n"
     ]
    },
    {
     "name": "stderr",
     "output_type": "stream",
     "text": [
      "\n",
      "100%|██████████| 3/3 [00:03<00:00,  1.26s/it]\n"
     ]
    },
    {
     "name": "stdout",
     "output_type": "stream",
     "text": [
      "\n",
      "Epoch 61 result: \n",
      "Learning Rate:  [5e-06]\n",
      "Avg loss (train): 0.0126\n",
      "Avg acc (train): 0.4497\n",
      "Avg loss (val): 0.0142\n",
      "Avg acc (val): 0.3505\n",
      "----------\n",
      "\n",
      "Epoch 62/100\n",
      "----------\n",
      "Training Progress: \n"
     ]
    },
    {
     "name": "stderr",
     "output_type": "stream",
     "text": [
      "100%|██████████| 11/11 [00:19<00:00,  1.78s/it]"
     ]
    },
    {
     "name": "stdout",
     "output_type": "stream",
     "text": [
      "\n",
      "Validation Progress: \n"
     ]
    },
    {
     "name": "stderr",
     "output_type": "stream",
     "text": [
      "\n",
      "100%|██████████| 3/3 [00:03<00:00,  1.24s/it]"
     ]
    },
    {
     "name": "stdout",
     "output_type": "stream",
     "text": [
      "\n",
      "Epoch 62 result: \n",
      "Learning Rate:  [5e-06]\n",
      "Avg loss (train): 0.0126\n",
      "Avg acc (train): 0.4516\n",
      "Avg loss (val): 0.0142\n",
      "Avg acc (val): 0.3489\n",
      "----------\n",
      "\n",
      "Epoch 63/100\n",
      "----------\n",
      "Training Progress: \n"
     ]
    },
    {
     "name": "stderr",
     "output_type": "stream",
     "text": [
      "\n",
      "100%|██████████| 11/11 [00:19<00:00,  1.78s/it]"
     ]
    },
    {
     "name": "stdout",
     "output_type": "stream",
     "text": [
      "\n",
      "Validation Progress: \n"
     ]
    },
    {
     "name": "stderr",
     "output_type": "stream",
     "text": [
      "\n",
      "100%|██████████| 3/3 [00:03<00:00,  1.28s/it]"
     ]
    },
    {
     "name": "stdout",
     "output_type": "stream",
     "text": [
      "\n",
      "Epoch 63 result: \n",
      "Learning Rate:  [5e-06]\n",
      "Avg loss (train): 0.0126\n",
      "Avg acc (train): 0.4516\n",
      "Avg loss (val): 0.0142\n",
      "Avg acc (val): 0.3505\n",
      "----------\n",
      "\n",
      "Epoch 64/100\n",
      "----------\n",
      "Training Progress: \n"
     ]
    },
    {
     "name": "stderr",
     "output_type": "stream",
     "text": [
      "\n",
      "100%|██████████| 11/11 [00:19<00:00,  1.77s/it]"
     ]
    },
    {
     "name": "stdout",
     "output_type": "stream",
     "text": [
      "\n",
      "Validation Progress: \n"
     ]
    },
    {
     "name": "stderr",
     "output_type": "stream",
     "text": [
      "\n",
      "100%|██████████| 3/3 [00:03<00:00,  1.23s/it]"
     ]
    },
    {
     "name": "stdout",
     "output_type": "stream",
     "text": [
      "\n",
      "Epoch 64 result: \n",
      "Learning Rate:  [5e-06]\n",
      "Avg loss (train): 0.0126\n",
      "Avg acc (train): 0.4523\n",
      "Avg loss (val): 0.0142\n",
      "Avg acc (val): 0.3459\n",
      "----------\n",
      "\n",
      "Epoch 65/100\n",
      "----------\n",
      "Training Progress: \n"
     ]
    },
    {
     "name": "stderr",
     "output_type": "stream",
     "text": [
      "\n",
      "100%|██████████| 11/11 [00:19<00:00,  1.78s/it]"
     ]
    },
    {
     "name": "stdout",
     "output_type": "stream",
     "text": [
      "\n",
      "Validation Progress: \n"
     ]
    },
    {
     "name": "stderr",
     "output_type": "stream",
     "text": [
      "\n",
      "100%|██████████| 3/3 [00:03<00:00,  1.28s/it]"
     ]
    },
    {
     "name": "stdout",
     "output_type": "stream",
     "text": [
      "\n",
      "Epoch 65 result: \n",
      "Learning Rate:  [5e-06]\n",
      "Avg loss (train): 0.0126\n",
      "Avg acc (train): 0.4508\n",
      "Avg loss (val): 0.0142\n",
      "Avg acc (val): 0.3505\n",
      "----------\n",
      "\n",
      "Epoch 66/100\n",
      "----------\n",
      "Training Progress: \n"
     ]
    },
    {
     "name": "stderr",
     "output_type": "stream",
     "text": [
      "\n",
      "100%|██████████| 11/11 [00:19<00:00,  1.78s/it]"
     ]
    },
    {
     "name": "stdout",
     "output_type": "stream",
     "text": [
      "\n",
      "Validation Progress: \n"
     ]
    },
    {
     "name": "stderr",
     "output_type": "stream",
     "text": [
      "\n",
      "100%|██████████| 3/3 [00:03<00:00,  1.25s/it]"
     ]
    },
    {
     "name": "stdout",
     "output_type": "stream",
     "text": [
      "\n",
      "Epoch 66 result: \n",
      "Learning Rate:  [5e-06]\n",
      "Avg loss (train): 0.0126\n",
      "Avg acc (train): 0.4516\n",
      "Avg loss (val): 0.0142\n",
      "Avg acc (val): 0.3459\n",
      "----------\n",
      "\n",
      "Epoch 67/100\n",
      "----------\n",
      "Training Progress: \n"
     ]
    },
    {
     "name": "stderr",
     "output_type": "stream",
     "text": [
      "\n",
      "100%|██████████| 11/11 [00:19<00:00,  1.77s/it]"
     ]
    },
    {
     "name": "stdout",
     "output_type": "stream",
     "text": [
      "\n",
      "Validation Progress: \n"
     ]
    },
    {
     "name": "stderr",
     "output_type": "stream",
     "text": [
      "\n",
      "100%|██████████| 3/3 [00:03<00:00,  1.25s/it]"
     ]
    },
    {
     "name": "stdout",
     "output_type": "stream",
     "text": [
      "\n",
      "Epoch 67 result: \n",
      "Learning Rate:  [5e-06]\n",
      "Avg loss (train): 0.0126\n",
      "Avg acc (train): 0.4542\n",
      "Avg loss (val): 0.0142\n",
      "Avg acc (val): 0.3459\n",
      "----------\n",
      "\n",
      "Epoch 68/100\n",
      "----------\n",
      "Training Progress: \n"
     ]
    },
    {
     "name": "stderr",
     "output_type": "stream",
     "text": [
      "\n",
      "100%|██████████| 11/11 [00:19<00:00,  1.77s/it]"
     ]
    },
    {
     "name": "stdout",
     "output_type": "stream",
     "text": [
      "\n",
      "Validation Progress: \n"
     ]
    },
    {
     "name": "stderr",
     "output_type": "stream",
     "text": [
      "\n",
      "100%|██████████| 3/3 [00:03<00:00,  1.24s/it]"
     ]
    },
    {
     "name": "stdout",
     "output_type": "stream",
     "text": [
      "\n",
      "Epoch 68 result: \n",
      "Learning Rate:  [5e-06]\n",
      "Avg loss (train): 0.0126\n",
      "Avg acc (train): 0.4553\n",
      "Avg loss (val): 0.0142\n",
      "Avg acc (val): 0.3459\n",
      "----------\n",
      "\n",
      "Epoch 69/100\n",
      "----------\n",
      "Training Progress: \n"
     ]
    },
    {
     "name": "stderr",
     "output_type": "stream",
     "text": [
      "\n",
      "100%|██████████| 11/11 [00:19<00:00,  1.78s/it]"
     ]
    },
    {
     "name": "stdout",
     "output_type": "stream",
     "text": [
      "\n",
      "Validation Progress: \n"
     ]
    },
    {
     "name": "stderr",
     "output_type": "stream",
     "text": [
      "\n",
      "100%|██████████| 3/3 [00:03<00:00,  1.27s/it]"
     ]
    },
    {
     "name": "stdout",
     "output_type": "stream",
     "text": [
      "\n",
      "Epoch 69 result: \n",
      "Learning Rate:  [5e-06]\n",
      "Avg loss (train): 0.0126\n",
      "Avg acc (train): 0.4527\n",
      "Avg loss (val): 0.0142\n",
      "Avg acc (val): 0.3489\n",
      "----------\n",
      "\n",
      "Epoch 70/100\n",
      "----------\n",
      "Training Progress: \n"
     ]
    },
    {
     "name": "stderr",
     "output_type": "stream",
     "text": [
      "\n",
      "100%|██████████| 11/11 [00:19<00:00,  1.77s/it]"
     ]
    },
    {
     "name": "stdout",
     "output_type": "stream",
     "text": [
      "\n",
      "Validation Progress: \n"
     ]
    },
    {
     "name": "stderr",
     "output_type": "stream",
     "text": [
      "\n",
      "100%|██████████| 3/3 [00:03<00:00,  1.24s/it]"
     ]
    },
    {
     "name": "stdout",
     "output_type": "stream",
     "text": [
      "\n",
      "Epoch 70 result: \n",
      "Learning Rate:  [5e-06]\n",
      "Avg loss (train): 0.0126\n",
      "Avg acc (train): 0.4538\n",
      "Avg loss (val): 0.0142\n",
      "Avg acc (val): 0.3459\n",
      "----------\n",
      "\n",
      "Epoch 71/100\n",
      "----------\n",
      "Training Progress: \n"
     ]
    },
    {
     "name": "stderr",
     "output_type": "stream",
     "text": [
      "\n",
      "100%|██████████| 11/11 [00:19<00:00,  1.77s/it]"
     ]
    },
    {
     "name": "stdout",
     "output_type": "stream",
     "text": [
      "\n",
      "Validation Progress: \n"
     ]
    },
    {
     "name": "stderr",
     "output_type": "stream",
     "text": [
      "\n",
      "100%|██████████| 3/3 [00:03<00:00,  1.30s/it]"
     ]
    },
    {
     "name": "stdout",
     "output_type": "stream",
     "text": [
      "\n",
      "Epoch 71 result: \n",
      "Learning Rate:  [5e-06]\n",
      "Avg loss (train): 0.0126\n",
      "Avg acc (train): 0.4546\n",
      "Avg loss (val): 0.0142\n",
      "Avg acc (val): 0.3489\n",
      "----------\n",
      "\n",
      "Epoch 72/100\n",
      "----------\n",
      "Training Progress: \n"
     ]
    },
    {
     "name": "stderr",
     "output_type": "stream",
     "text": [
      "\n",
      "100%|██████████| 11/11 [00:19<00:00,  1.78s/it]"
     ]
    },
    {
     "name": "stdout",
     "output_type": "stream",
     "text": [
      "\n",
      "Validation Progress: \n"
     ]
    },
    {
     "name": "stderr",
     "output_type": "stream",
     "text": [
      "\n",
      "100%|██████████| 3/3 [00:03<00:00,  1.25s/it]"
     ]
    },
    {
     "name": "stdout",
     "output_type": "stream",
     "text": [
      "\n",
      "Epoch 72 result: \n",
      "Learning Rate:  [5e-06]\n",
      "Avg loss (train): 0.0126\n",
      "Avg acc (train): 0.4553\n",
      "Avg loss (val): 0.0142\n",
      "Avg acc (val): 0.3505\n",
      "----------\n",
      "\n",
      "Epoch 73/100\n",
      "----------\n",
      "Training Progress: \n"
     ]
    },
    {
     "name": "stderr",
     "output_type": "stream",
     "text": [
      "\n",
      "100%|██████████| 11/11 [00:19<00:00,  1.77s/it]"
     ]
    },
    {
     "name": "stdout",
     "output_type": "stream",
     "text": [
      "\n",
      "Validation Progress: \n"
     ]
    },
    {
     "name": "stderr",
     "output_type": "stream",
     "text": [
      "\n",
      "100%|██████████| 3/3 [00:03<00:00,  1.26s/it]\n"
     ]
    },
    {
     "name": "stdout",
     "output_type": "stream",
     "text": [
      "\n",
      "Epoch 73 result: \n",
      "Learning Rate:  [5e-06]\n",
      "Avg loss (train): 0.0126\n",
      "Avg acc (train): 0.4568\n",
      "Avg loss (val): 0.0142\n",
      "Avg acc (val): 0.3520\n",
      "----------\n",
      "\n",
      "Epoch 74/100\n",
      "----------\n",
      "Training Progress: \n"
     ]
    },
    {
     "name": "stderr",
     "output_type": "stream",
     "text": [
      "100%|██████████| 11/11 [00:19<00:00,  1.79s/it]"
     ]
    },
    {
     "name": "stdout",
     "output_type": "stream",
     "text": [
      "\n",
      "Validation Progress: \n"
     ]
    },
    {
     "name": "stderr",
     "output_type": "stream",
     "text": [
      "\n",
      "100%|██████████| 3/3 [00:03<00:00,  1.27s/it]"
     ]
    },
    {
     "name": "stdout",
     "output_type": "stream",
     "text": [
      "\n",
      "Epoch 74 result: \n",
      "Learning Rate:  [5e-06]\n",
      "Avg loss (train): 0.0126\n",
      "Avg acc (train): 0.4557\n",
      "Avg loss (val): 0.0142\n",
      "Avg acc (val): 0.3474\n",
      "----------\n",
      "\n",
      "Epoch 75/100\n",
      "----------\n",
      "Training Progress: \n"
     ]
    },
    {
     "name": "stderr",
     "output_type": "stream",
     "text": [
      "\n",
      "100%|██████████| 11/11 [00:19<00:00,  1.80s/it]"
     ]
    },
    {
     "name": "stdout",
     "output_type": "stream",
     "text": [
      "\n",
      "Validation Progress: \n"
     ]
    },
    {
     "name": "stderr",
     "output_type": "stream",
     "text": [
      "\n",
      "100%|██████████| 3/3 [00:03<00:00,  1.25s/it]"
     ]
    },
    {
     "name": "stdout",
     "output_type": "stream",
     "text": [
      "\n",
      "Epoch 75 result: \n",
      "Learning Rate:  [5e-06]\n",
      "Avg loss (train): 0.0126\n",
      "Avg acc (train): 0.4568\n",
      "Avg loss (val): 0.0142\n",
      "Avg acc (val): 0.3444\n",
      "----------\n",
      "\n",
      "Epoch 76/100\n",
      "----------\n",
      "Training Progress: \n"
     ]
    },
    {
     "name": "stderr",
     "output_type": "stream",
     "text": [
      "\n",
      "100%|██████████| 11/11 [00:19<00:00,  1.80s/it]"
     ]
    },
    {
     "name": "stdout",
     "output_type": "stream",
     "text": [
      "\n",
      "Validation Progress: \n"
     ]
    },
    {
     "name": "stderr",
     "output_type": "stream",
     "text": [
      "\n",
      "100%|██████████| 3/3 [00:03<00:00,  1.25s/it]"
     ]
    },
    {
     "name": "stdout",
     "output_type": "stream",
     "text": [
      "\n",
      "Epoch 76 result: \n",
      "Learning Rate:  [5e-06]\n",
      "Avg loss (train): 0.0126\n",
      "Avg acc (train): 0.4576\n",
      "Avg loss (val): 0.0142\n",
      "Avg acc (val): 0.3505\n",
      "----------\n",
      "\n",
      "Epoch 77/100\n",
      "----------\n",
      "Training Progress: \n"
     ]
    },
    {
     "name": "stderr",
     "output_type": "stream",
     "text": [
      "\n",
      "100%|██████████| 11/11 [00:19<00:00,  1.80s/it]"
     ]
    },
    {
     "name": "stdout",
     "output_type": "stream",
     "text": [
      "\n",
      "Validation Progress: \n"
     ]
    },
    {
     "name": "stderr",
     "output_type": "stream",
     "text": [
      "\n",
      "100%|██████████| 3/3 [00:03<00:00,  1.27s/it]"
     ]
    },
    {
     "name": "stdout",
     "output_type": "stream",
     "text": [
      "\n",
      "Epoch 77 result: \n",
      "Learning Rate:  [5e-06]\n",
      "Avg loss (train): 0.0126\n",
      "Avg acc (train): 0.4568\n",
      "Avg loss (val): 0.0142\n",
      "Avg acc (val): 0.3489\n",
      "----------\n",
      "\n",
      "Epoch 78/100\n",
      "----------\n",
      "Training Progress: \n"
     ]
    },
    {
     "name": "stderr",
     "output_type": "stream",
     "text": [
      "\n",
      "100%|██████████| 11/11 [00:19<00:00,  1.78s/it]"
     ]
    },
    {
     "name": "stdout",
     "output_type": "stream",
     "text": [
      "\n",
      "Validation Progress: \n"
     ]
    },
    {
     "name": "stderr",
     "output_type": "stream",
     "text": [
      "\n",
      "100%|██████████| 3/3 [00:03<00:00,  1.24s/it]"
     ]
    },
    {
     "name": "stdout",
     "output_type": "stream",
     "text": [
      "\n",
      "Epoch 78 result: \n",
      "Learning Rate:  [5e-06]\n",
      "Avg loss (train): 0.0126\n",
      "Avg acc (train): 0.4580\n",
      "Avg loss (val): 0.0142\n",
      "Avg acc (val): 0.3459\n",
      "----------\n",
      "\n",
      "Epoch 79/100\n",
      "----------\n",
      "Training Progress: \n"
     ]
    },
    {
     "name": "stderr",
     "output_type": "stream",
     "text": [
      "\n",
      "100%|██████████| 11/11 [00:19<00:00,  1.79s/it]"
     ]
    },
    {
     "name": "stdout",
     "output_type": "stream",
     "text": [
      "\n",
      "Validation Progress: \n"
     ]
    },
    {
     "name": "stderr",
     "output_type": "stream",
     "text": [
      "\n",
      "100%|██████████| 3/3 [00:03<00:00,  1.26s/it]"
     ]
    },
    {
     "name": "stdout",
     "output_type": "stream",
     "text": [
      "\n",
      "Epoch 79 result: \n",
      "Learning Rate:  [5e-06]\n",
      "Avg loss (train): 0.0126\n",
      "Avg acc (train): 0.4583\n",
      "Avg loss (val): 0.0142\n",
      "Avg acc (val): 0.3459\n",
      "----------\n",
      "\n",
      "Epoch 80/100\n",
      "----------\n",
      "Training Progress: \n"
     ]
    },
    {
     "name": "stderr",
     "output_type": "stream",
     "text": [
      "\n",
      "100%|██████████| 11/11 [00:19<00:00,  1.79s/it]"
     ]
    },
    {
     "name": "stdout",
     "output_type": "stream",
     "text": [
      "\n",
      "Validation Progress: \n"
     ]
    },
    {
     "name": "stderr",
     "output_type": "stream",
     "text": [
      "\n",
      "100%|██████████| 3/3 [00:03<00:00,  1.27s/it]"
     ]
    },
    {
     "name": "stdout",
     "output_type": "stream",
     "text": [
      "\n",
      "Epoch 80 result: \n",
      "Learning Rate:  [5.000000000000001e-08]\n",
      "Avg loss (train): 0.0126\n",
      "Avg acc (train): 0.4587\n",
      "Avg loss (val): 0.0142\n",
      "Avg acc (val): 0.3459\n",
      "----------\n",
      "\n",
      "Epoch 81/100\n",
      "----------\n",
      "Training Progress: \n"
     ]
    },
    {
     "name": "stderr",
     "output_type": "stream",
     "text": [
      "\n",
      "100%|██████████| 11/11 [00:19<00:00,  1.80s/it]"
     ]
    },
    {
     "name": "stdout",
     "output_type": "stream",
     "text": [
      "\n",
      "Validation Progress: \n"
     ]
    },
    {
     "name": "stderr",
     "output_type": "stream",
     "text": [
      "\n",
      "100%|██████████| 3/3 [00:03<00:00,  1.24s/it]"
     ]
    },
    {
     "name": "stdout",
     "output_type": "stream",
     "text": [
      "\n",
      "Epoch 81 result: \n",
      "Learning Rate:  [5.000000000000001e-07]\n",
      "Avg loss (train): 0.0126\n",
      "Avg acc (train): 0.4591\n",
      "Avg loss (val): 0.0142\n",
      "Avg acc (val): 0.3459\n",
      "----------\n",
      "\n",
      "Epoch 82/100\n",
      "----------\n",
      "Training Progress: \n"
     ]
    },
    {
     "name": "stderr",
     "output_type": "stream",
     "text": [
      "\n",
      "100%|██████████| 11/11 [00:19<00:00,  1.78s/it]"
     ]
    },
    {
     "name": "stdout",
     "output_type": "stream",
     "text": [
      "\n",
      "Validation Progress: \n"
     ]
    },
    {
     "name": "stderr",
     "output_type": "stream",
     "text": [
      "\n",
      "100%|██████████| 3/3 [00:03<00:00,  1.25s/it]"
     ]
    },
    {
     "name": "stdout",
     "output_type": "stream",
     "text": [
      "\n",
      "Epoch 82 result: \n",
      "Learning Rate:  [5.000000000000001e-07]\n",
      "Avg loss (train): 0.0126\n",
      "Avg acc (train): 0.4599\n",
      "Avg loss (val): 0.0142\n",
      "Avg acc (val): 0.3444\n",
      "----------\n",
      "\n",
      "Epoch 83/100\n",
      "----------\n",
      "Training Progress: \n"
     ]
    },
    {
     "name": "stderr",
     "output_type": "stream",
     "text": [
      "\n",
      "100%|██████████| 11/11 [00:19<00:00,  1.79s/it]"
     ]
    },
    {
     "name": "stdout",
     "output_type": "stream",
     "text": [
      "\n",
      "Validation Progress: \n"
     ]
    },
    {
     "name": "stderr",
     "output_type": "stream",
     "text": [
      "\n",
      "100%|██████████| 3/3 [00:03<00:00,  1.23s/it]"
     ]
    },
    {
     "name": "stdout",
     "output_type": "stream",
     "text": [
      "\n",
      "Epoch 83 result: \n",
      "Learning Rate:  [5.000000000000001e-07]\n",
      "Avg loss (train): 0.0126\n",
      "Avg acc (train): 0.4576\n",
      "Avg loss (val): 0.0142\n",
      "Avg acc (val): 0.3444\n",
      "----------\n",
      "\n",
      "Epoch 84/100\n",
      "----------\n",
      "Training Progress: \n"
     ]
    },
    {
     "name": "stderr",
     "output_type": "stream",
     "text": [
      "\n",
      "100%|██████████| 11/11 [00:19<00:00,  1.79s/it]"
     ]
    },
    {
     "name": "stdout",
     "output_type": "stream",
     "text": [
      "\n",
      "Validation Progress: \n"
     ]
    },
    {
     "name": "stderr",
     "output_type": "stream",
     "text": [
      "\n",
      "100%|██████████| 3/3 [00:03<00:00,  1.28s/it]"
     ]
    },
    {
     "name": "stdout",
     "output_type": "stream",
     "text": [
      "\n",
      "Epoch 84 result: \n",
      "Learning Rate:  [5.000000000000001e-07]\n",
      "Avg loss (train): 0.0126\n",
      "Avg acc (train): 0.4591\n",
      "Avg loss (val): 0.0142\n",
      "Avg acc (val): 0.3459\n",
      "----------\n",
      "\n",
      "Epoch 85/100\n",
      "----------\n",
      "Training Progress: \n"
     ]
    },
    {
     "name": "stderr",
     "output_type": "stream",
     "text": [
      "\n",
      "100%|██████████| 11/11 [00:19<00:00,  1.80s/it]"
     ]
    },
    {
     "name": "stdout",
     "output_type": "stream",
     "text": [
      "\n",
      "Validation Progress: \n"
     ]
    },
    {
     "name": "stderr",
     "output_type": "stream",
     "text": [
      "\n",
      "100%|██████████| 3/3 [00:03<00:00,  1.31s/it]"
     ]
    },
    {
     "name": "stdout",
     "output_type": "stream",
     "text": [
      "\n",
      "Epoch 85 result: \n",
      "Learning Rate:  [5.000000000000001e-07]\n",
      "Avg loss (train): 0.0125\n",
      "Avg acc (train): 0.4591\n",
      "Avg loss (val): 0.0142\n",
      "Avg acc (val): 0.3444\n",
      "----------\n",
      "\n",
      "Epoch 86/100\n",
      "----------\n",
      "Training Progress: \n"
     ]
    },
    {
     "name": "stderr",
     "output_type": "stream",
     "text": [
      "\n",
      "100%|██████████| 11/11 [00:19<00:00,  1.78s/it]"
     ]
    },
    {
     "name": "stdout",
     "output_type": "stream",
     "text": [
      "\n",
      "Validation Progress: \n"
     ]
    },
    {
     "name": "stderr",
     "output_type": "stream",
     "text": [
      "\n",
      "100%|██████████| 3/3 [00:03<00:00,  1.27s/it]"
     ]
    },
    {
     "name": "stdout",
     "output_type": "stream",
     "text": [
      "\n",
      "Epoch 86 result: \n",
      "Learning Rate:  [5.000000000000001e-07]\n",
      "Avg loss (train): 0.0125\n",
      "Avg acc (train): 0.4599\n",
      "Avg loss (val): 0.0142\n",
      "Avg acc (val): 0.3459\n",
      "----------\n",
      "\n",
      "Epoch 87/100\n",
      "----------\n",
      "Training Progress: \n"
     ]
    },
    {
     "name": "stderr",
     "output_type": "stream",
     "text": [
      "\n",
      "100%|██████████| 11/11 [00:19<00:00,  1.79s/it]"
     ]
    },
    {
     "name": "stdout",
     "output_type": "stream",
     "text": [
      "\n",
      "Validation Progress: \n"
     ]
    },
    {
     "name": "stderr",
     "output_type": "stream",
     "text": [
      "\n",
      "100%|██████████| 3/3 [00:03<00:00,  1.24s/it]"
     ]
    },
    {
     "name": "stdout",
     "output_type": "stream",
     "text": [
      "\n",
      "Epoch 87 result: \n",
      "Learning Rate:  [5.000000000000001e-07]\n",
      "Avg loss (train): 0.0126\n",
      "Avg acc (train): 0.4591\n",
      "Avg loss (val): 0.0142\n",
      "Avg acc (val): 0.3444\n",
      "----------\n",
      "\n",
      "Epoch 88/100\n",
      "----------\n",
      "Training Progress: \n"
     ]
    },
    {
     "name": "stderr",
     "output_type": "stream",
     "text": [
      "\n",
      "100%|██████████| 11/11 [00:19<00:00,  1.78s/it]"
     ]
    },
    {
     "name": "stdout",
     "output_type": "stream",
     "text": [
      "\n",
      "Validation Progress: \n"
     ]
    },
    {
     "name": "stderr",
     "output_type": "stream",
     "text": [
      "\n",
      "100%|██████████| 3/3 [00:03<00:00,  1.24s/it]"
     ]
    },
    {
     "name": "stdout",
     "output_type": "stream",
     "text": [
      "\n",
      "Epoch 88 result: \n",
      "Learning Rate:  [5.000000000000001e-07]\n",
      "Avg loss (train): 0.0125\n",
      "Avg acc (train): 0.4587\n",
      "Avg loss (val): 0.0142\n",
      "Avg acc (val): 0.3444\n",
      "----------\n",
      "\n",
      "Epoch 89/100\n",
      "----------\n",
      "Training Progress: \n"
     ]
    },
    {
     "name": "stderr",
     "output_type": "stream",
     "text": [
      "\n",
      "100%|██████████| 11/11 [00:19<00:00,  1.78s/it]"
     ]
    },
    {
     "name": "stdout",
     "output_type": "stream",
     "text": [
      "\n",
      "Validation Progress: \n"
     ]
    },
    {
     "name": "stderr",
     "output_type": "stream",
     "text": [
      "\n",
      "100%|██████████| 3/3 [00:03<00:00,  1.21s/it]"
     ]
    },
    {
     "name": "stdout",
     "output_type": "stream",
     "text": [
      "\n",
      "Epoch 89 result: \n",
      "Learning Rate:  [5.000000000000001e-07]\n",
      "Avg loss (train): 0.0126\n",
      "Avg acc (train): 0.4599\n",
      "Avg loss (val): 0.0142\n",
      "Avg acc (val): 0.3444\n",
      "----------\n",
      "\n",
      "Epoch 90/100\n",
      "----------\n",
      "Training Progress: \n"
     ]
    },
    {
     "name": "stderr",
     "output_type": "stream",
     "text": [
      "\n",
      "100%|██████████| 11/11 [00:19<00:00,  1.79s/it]"
     ]
    },
    {
     "name": "stdout",
     "output_type": "stream",
     "text": [
      "\n",
      "Validation Progress: \n"
     ]
    },
    {
     "name": "stderr",
     "output_type": "stream",
     "text": [
      "\n",
      "100%|██████████| 3/3 [00:03<00:00,  1.23s/it]"
     ]
    },
    {
     "name": "stdout",
     "output_type": "stream",
     "text": [
      "\n",
      "Epoch 90 result: \n",
      "Learning Rate:  [5.000000000000001e-07]\n",
      "Avg loss (train): 0.0126\n",
      "Avg acc (train): 0.4599\n",
      "Avg loss (val): 0.0142\n",
      "Avg acc (val): 0.3444\n",
      "----------\n",
      "\n",
      "Epoch 91/100\n",
      "----------\n",
      "Training Progress: \n"
     ]
    },
    {
     "name": "stderr",
     "output_type": "stream",
     "text": [
      "\n",
      "100%|██████████| 11/11 [00:19<00:00,  1.80s/it]"
     ]
    },
    {
     "name": "stdout",
     "output_type": "stream",
     "text": [
      "\n",
      "Validation Progress: \n"
     ]
    },
    {
     "name": "stderr",
     "output_type": "stream",
     "text": [
      "\n",
      "100%|██████████| 3/3 [00:03<00:00,  1.27s/it]"
     ]
    },
    {
     "name": "stdout",
     "output_type": "stream",
     "text": [
      "\n",
      "Epoch 91 result: \n",
      "Learning Rate:  [5.000000000000001e-07]\n",
      "Avg loss (train): 0.0126\n",
      "Avg acc (train): 0.4610\n",
      "Avg loss (val): 0.0142\n",
      "Avg acc (val): 0.3444\n",
      "----------\n",
      "\n",
      "Epoch 92/100\n",
      "----------\n",
      "Training Progress: \n"
     ]
    },
    {
     "name": "stderr",
     "output_type": "stream",
     "text": [
      "\n",
      "100%|██████████| 11/11 [00:19<00:00,  1.79s/it]"
     ]
    },
    {
     "name": "stdout",
     "output_type": "stream",
     "text": [
      "\n",
      "Validation Progress: \n"
     ]
    },
    {
     "name": "stderr",
     "output_type": "stream",
     "text": [
      "\n",
      "100%|██████████| 3/3 [00:03<00:00,  1.22s/it]"
     ]
    },
    {
     "name": "stdout",
     "output_type": "stream",
     "text": [
      "\n",
      "Epoch 92 result: \n",
      "Learning Rate:  [5.000000000000001e-07]\n",
      "Avg loss (train): 0.0125\n",
      "Avg acc (train): 0.4614\n",
      "Avg loss (val): 0.0142\n",
      "Avg acc (val): 0.3444\n",
      "----------\n",
      "\n",
      "Epoch 93/100\n",
      "----------\n",
      "Training Progress: \n"
     ]
    },
    {
     "name": "stderr",
     "output_type": "stream",
     "text": [
      "\n",
      "100%|██████████| 11/11 [00:19<00:00,  1.80s/it]"
     ]
    },
    {
     "name": "stdout",
     "output_type": "stream",
     "text": [
      "\n",
      "Validation Progress: \n"
     ]
    },
    {
     "name": "stderr",
     "output_type": "stream",
     "text": [
      "\n",
      "100%|██████████| 3/3 [00:03<00:00,  1.23s/it]"
     ]
    },
    {
     "name": "stdout",
     "output_type": "stream",
     "text": [
      "\n",
      "Epoch 93 result: \n",
      "Learning Rate:  [5.000000000000001e-07]\n",
      "Avg loss (train): 0.0126\n",
      "Avg acc (train): 0.4606\n",
      "Avg loss (val): 0.0142\n",
      "Avg acc (val): 0.3444\n",
      "----------\n",
      "\n",
      "Epoch 94/100\n",
      "----------\n",
      "Training Progress: \n"
     ]
    },
    {
     "name": "stderr",
     "output_type": "stream",
     "text": [
      "\n",
      "100%|██████████| 11/11 [00:19<00:00,  1.79s/it]"
     ]
    },
    {
     "name": "stdout",
     "output_type": "stream",
     "text": [
      "\n",
      "Validation Progress: \n"
     ]
    },
    {
     "name": "stderr",
     "output_type": "stream",
     "text": [
      "\n",
      "100%|██████████| 3/3 [00:03<00:00,  1.28s/it]"
     ]
    },
    {
     "name": "stdout",
     "output_type": "stream",
     "text": [
      "\n",
      "Epoch 94 result: \n",
      "Learning Rate:  [5.000000000000001e-07]\n",
      "Avg loss (train): 0.0125\n",
      "Avg acc (train): 0.4599\n",
      "Avg loss (val): 0.0142\n",
      "Avg acc (val): 0.3459\n",
      "----------\n",
      "\n",
      "Epoch 95/100\n",
      "----------\n",
      "Training Progress: \n"
     ]
    },
    {
     "name": "stderr",
     "output_type": "stream",
     "text": [
      "\n",
      "100%|██████████| 11/11 [00:19<00:00,  1.79s/it]"
     ]
    },
    {
     "name": "stdout",
     "output_type": "stream",
     "text": [
      "\n",
      "Validation Progress: \n"
     ]
    },
    {
     "name": "stderr",
     "output_type": "stream",
     "text": [
      "\n",
      "100%|██████████| 3/3 [00:03<00:00,  1.23s/it]"
     ]
    },
    {
     "name": "stdout",
     "output_type": "stream",
     "text": [
      "\n",
      "Epoch 95 result: \n",
      "Learning Rate:  [5.000000000000001e-07]\n",
      "Avg loss (train): 0.0126\n",
      "Avg acc (train): 0.4595\n",
      "Avg loss (val): 0.0142\n",
      "Avg acc (val): 0.3444\n",
      "----------\n",
      "\n",
      "Epoch 96/100\n",
      "----------\n",
      "Training Progress: \n"
     ]
    },
    {
     "name": "stderr",
     "output_type": "stream",
     "text": [
      "\n",
      "100%|██████████| 11/11 [00:19<00:00,  1.78s/it]"
     ]
    },
    {
     "name": "stdout",
     "output_type": "stream",
     "text": [
      "\n",
      "Validation Progress: \n"
     ]
    },
    {
     "name": "stderr",
     "output_type": "stream",
     "text": [
      "\n",
      "100%|██████████| 3/3 [00:03<00:00,  1.23s/it]"
     ]
    },
    {
     "name": "stdout",
     "output_type": "stream",
     "text": [
      "\n",
      "Epoch 96 result: \n",
      "Learning Rate:  [5.000000000000001e-07]\n",
      "Avg loss (train): 0.0125\n",
      "Avg acc (train): 0.4595\n",
      "Avg loss (val): 0.0142\n",
      "Avg acc (val): 0.3444\n",
      "----------\n",
      "\n",
      "Epoch 97/100\n",
      "----------\n",
      "Training Progress: \n"
     ]
    },
    {
     "name": "stderr",
     "output_type": "stream",
     "text": [
      "\n",
      "100%|██████████| 11/11 [00:19<00:00,  1.77s/it]"
     ]
    },
    {
     "name": "stdout",
     "output_type": "stream",
     "text": [
      "\n",
      "Validation Progress: \n"
     ]
    },
    {
     "name": "stderr",
     "output_type": "stream",
     "text": [
      "\n",
      "100%|██████████| 3/3 [00:03<00:00,  1.26s/it]"
     ]
    },
    {
     "name": "stdout",
     "output_type": "stream",
     "text": [
      "\n",
      "Epoch 97 result: \n",
      "Learning Rate:  [5.000000000000001e-07]\n",
      "Avg loss (train): 0.0126\n",
      "Avg acc (train): 0.4606\n",
      "Avg loss (val): 0.0142\n",
      "Avg acc (val): 0.3444\n",
      "----------\n",
      "\n",
      "Epoch 98/100\n",
      "----------\n",
      "Training Progress: \n"
     ]
    },
    {
     "name": "stderr",
     "output_type": "stream",
     "text": [
      "\n",
      "100%|██████████| 11/11 [00:19<00:00,  1.79s/it]"
     ]
    },
    {
     "name": "stdout",
     "output_type": "stream",
     "text": [
      "\n",
      "Validation Progress: \n"
     ]
    },
    {
     "name": "stderr",
     "output_type": "stream",
     "text": [
      "\n",
      "100%|██████████| 3/3 [00:03<00:00,  1.29s/it]"
     ]
    },
    {
     "name": "stdout",
     "output_type": "stream",
     "text": [
      "\n",
      "Epoch 98 result: \n",
      "Learning Rate:  [5.000000000000001e-07]\n",
      "Avg loss (train): 0.0126\n",
      "Avg acc (train): 0.4587\n",
      "Avg loss (val): 0.0142\n",
      "Avg acc (val): 0.3444\n",
      "----------\n",
      "\n",
      "Epoch 99/100\n",
      "----------\n",
      "Training Progress: \n"
     ]
    },
    {
     "name": "stderr",
     "output_type": "stream",
     "text": [
      "\n",
      "100%|██████████| 11/11 [00:19<00:00,  1.79s/it]"
     ]
    },
    {
     "name": "stdout",
     "output_type": "stream",
     "text": [
      "\n",
      "Validation Progress: \n"
     ]
    },
    {
     "name": "stderr",
     "output_type": "stream",
     "text": [
      "\n",
      "100%|██████████| 3/3 [00:03<00:00,  1.26s/it]\n"
     ]
    },
    {
     "name": "stdout",
     "output_type": "stream",
     "text": [
      "\n",
      "Epoch 99 result: \n",
      "Learning Rate:  [5.000000000000001e-07]\n",
      "Avg loss (train): 0.0125\n",
      "Avg acc (train): 0.4606\n",
      "Avg loss (val): 0.0142\n",
      "Avg acc (val): 0.3444\n",
      "----------\n",
      "\n",
      "\n",
      "Training completed in 39m 51s\n",
      "Best acc: 0.3520\n"
     ]
    }
   ],
   "source": [
    "model = train_model(model, criterion, optimizer_ft, num_epochs=epochs)\n",
    "torch.save(model.state_dict(), 'vgg2-transfer.pt')"
   ]
  },
  {
   "cell_type": "code",
   "execution_count": 15,
   "metadata": {},
   "outputs": [],
   "source": [
    "history = pd.DataFrame(history, columns=['train_loss', 'valid_loss', 'train_acc','valid_acc'])"
   ]
  },
  {
   "cell_type": "code",
   "execution_count": 16,
   "metadata": {},
   "outputs": [
    {
     "data": {
      "text/plain": [
       "Text(0.5, 1.0, 'Training and Validation Losses')"
      ]
     },
     "execution_count": 16,
     "metadata": {},
     "output_type": "execute_result"
    },
    {
     "data": {
      "image/png": "[encoded data removed]",
      "text/plain": [
       "<Figure size 576x432 with 1 Axes>"
      ]
     },
     "metadata": {
      "needs_background": "light"
     },
     "output_type": "display_data"
    }
   ],
   "source": [
    "plt.figure(figsize=(8, 6))\n",
    "for c in ['train_loss', 'valid_loss']:\n",
    "    plt.plot(\n",
    "        history[c], label=c)\n",
    "plt.legend()\n",
    "plt.xlabel('Epoch')\n",
    "plt.ylabel('Loss')\n",
    "plt.title('Training and Validation Losses')"
   ]
  },
  {
   "cell_type": "code",
   "execution_count": 17,
   "metadata": {},
   "outputs": [
    {
     "data": {
      "text/plain": [
       "Text(0.5, 1.0, 'Training and Validation Accuracy')"
      ]
     },
     "execution_count": 17,
     "metadata": {},
     "output_type": "execute_result"
    },
    {
     "data": {
      "image/png": "[encoded data removed]",
      "text/plain": [
       "<Figure size 576x432 with 1 Axes>"
      ]
     },
     "metadata": {
      "needs_background": "light"
     },
     "output_type": "display_data"
    }
   ],
   "source": [
    "plt.figure(figsize=(8, 6))\n",
    "for c in ['train_acc', 'valid_acc']:\n",
    "    plt.plot(\n",
    "         history[c], label=c)\n",
    "plt.legend()\n",
    "plt.xlabel('Epoch')\n",
    "plt.ylabel('Average Accuracy')\n",
    "plt.title('Training and Validation Accuracy')"
   ]
  },
  {
   "cell_type": "code",
   "execution_count": 18,
   "metadata": {},
   "outputs": [
    {
     "name": "stderr",
     "output_type": "stream",
     "text": [
      "\r",
      "  0%|          | 0/4 [00:00<?, ?it/s]"
     ]
    },
    {
     "name": "stdout",
     "output_type": "stream",
     "text": [
      "Evaluating model\n",
      "----------\n"
     ]
    },
    {
     "name": "stderr",
     "output_type": "stream",
     "text": [
      "100%|██████████| 4/4 [00:06<00:00,  1.63s/it]"
     ]
    },
    {
     "name": "stdout",
     "output_type": "stream",
     "text": [
      "\n",
      "Evaluation completed in 0m 7s\n",
      "Avg loss (test): 0.0169\n",
      "Avg acc (test): 0.1308\n",
      "----------\n"
     ]
    },
    {
     "name": "stderr",
     "output_type": "stream",
     "text": [
      "\n"
     ]
    }
   ],
   "source": [
    "test_loss, test_acc= eval_model(model, criterion)"
   ]
  }
 ],
 "metadata": {
  "kernelspec": {
   "display_name": "Python 3",
   "language": "python",
   "name": "python3"
  },
  "language_info": {
   "codemirror_mode": {
    "name": "ipython",
    "version": 3
   },
   "file_extension": ".py",
   "mimetype": "text/x-python",
   "name": "python",
   "nbconvert_exporter": "python",
   "pygments_lexer": "ipython3",
   "version": "3.8.5"
  }
 },
 "nbformat": 4,
 "nbformat_minor": 5
}
