{
 "cells": [
  {
   "cell_type": "code",
   "execution_count": 1,
   "metadata": {},
   "outputs": [
    {
     "name": "stdout",
     "output_type": "stream",
     "text": [
      "Using CUDA\n"
     ]
    }
   ],
   "source": [
    "from __future__ import print_function, division\n",
    "\n",
    "from __future__ import print_function, division\n",
    "\n",
    "import torch\n",
    "import torch.nn as nn\n",
    "import torch.optim as optim\n",
    "from torch.optim import lr_scheduler\n",
    "from torch.autograd import Variable\n",
    "import numpy as np\n",
    "import torchvision\n",
    "from torchvision import datasets, models, transforms\n",
    "import matplotlib.pyplot as plt\n",
    "import time\n",
    "import os\n",
    "import copy\n",
    "from mpl_toolkits.axes_grid1 import ImageGrid\n",
    "plt.ion()  \n",
    "\n",
    "use_gpu = torch.cuda.is_available()\n",
    "if use_gpu:\n",
    "    print(\"Using CUDA\")"
   ]
  },
  {
   "cell_type": "code",
   "execution_count": 2,
   "metadata": {},
   "outputs": [
    {
     "data": {
      "text/plain": [
       "<torch._C.Generator at 0x1516cb4394d0>"
      ]
     },
     "execution_count": 2,
     "metadata": {},
     "output_type": "execute_result"
    }
   ],
   "source": [
    "torch.manual_seed(0)"
   ]
  },
  {
   "cell_type": "code",
   "execution_count": 3,
   "metadata": {},
   "outputs": [
    {
     "name": "stdout",
     "output_type": "stream",
     "text": [
      "362\n",
      "Loaded 2891 images under train\n",
      "Loaded 721 images under validation\n",
      "Loaded 498 images under test\n",
      "Classes: \n",
      "['back_pack', 'bike', 'bike_helmet', 'bookcase', 'bottle', 'calculator', 'desk_chair', 'desk_lamp', 'desktop_computer', 'file_cabinet', 'headphones', 'keyboard', 'laptop_computer', 'letter_tray', 'mobile_phone', 'monitor', 'mouse', 'mug', 'paper_notebook', 'pen', 'phone', 'printer', 'projector', 'punchers', 'ring_binder', 'ruler', 'scissors', 'speaker', 'stapler', 'tape_dispenser', 'trash_can']\n"
     ]
    }
   ],
   "source": [
    "data_dir = '/scratch/mk7711/dast/new_random/aw/'\n",
    "train = 'train'\n",
    "val = 'validation'\n",
    "test = 'test'\n",
    "\n",
    "data_transforms = {\n",
    "    train: transforms.Compose([\n",
    "        # Data augmentation is a good practice for the train set\n",
    "        # Here, we randomly crop the image to 224x224 and\n",
    "        # randomly flip it horizontally. \n",
    "        #transforms.RandomResizedCrop(224),\n",
    "        #transforms.RandomHorizontalFlip(),\n",
    "        #transforms.RandomVerticalFlip(),\n",
    "        transforms.CenterCrop(224),\n",
    "        transforms.ToTensor(),\n",
    "        transforms.Normalize([0.485, 0.456, 0.406], [0.229, 0.224, 0.225])\n",
    "    ]),\n",
    "    val: transforms.Compose([\n",
    "        #transforms.RandomResizedCrop(224),\n",
    "        #transforms.RandomHorizontalFlip(),\n",
    "        #transforms.RandomVerticalFlip(),\n",
    "        #transforms.Resize(224),\n",
    "        transforms.CenterCrop(224),\n",
    "        transforms.ToTensor(),\n",
    "        transforms.Normalize([0.485, 0.456, 0.406], [0.229, 0.224, 0.225])\n",
    "    ]),\n",
    "    test: transforms.Compose([\n",
    "        #transforms.Resize(224),\n",
    "        transforms.CenterCrop(224),\n",
    "        transforms.ToTensor(),\n",
    "        transforms.Normalize([0.485, 0.456, 0.406], [0.229, 0.224, 0.225])\n",
    "    ])\n",
    "}\n",
    "\n",
    "image_datasets = {\n",
    "    x: datasets.ImageFolder(\n",
    "        os.path.join(data_dir, x), \n",
    "        transform=data_transforms[x]\n",
    "    )\n",
    "    for x in [train, val, test]\n",
    "}\n",
    "\n",
    "dataloaders = {\n",
    "    x: torch.utils.data.DataLoader(\n",
    "        image_datasets[x], batch_size=8,\n",
    "        shuffle=True, num_workers=4\n",
    "    )\n",
    "    for x in [train, val, test]\n",
    "}\n",
    "print(len(dataloaders['train']))\n",
    "\n",
    "dataset_sizes = {x: len(image_datasets[x]) for x in [train, val, test]}\n",
    "\n",
    "for x in [train, val, test]:\n",
    "    print(\"Loaded {} images under {}\".format(dataset_sizes[x], x))\n",
    "    \n",
    "print(\"Classes: \")\n",
    "class_names = image_datasets[train].classes\n",
    "print(image_datasets[train].classes)"
   ]
  },
  {
   "cell_type": "code",
   "execution_count": 4,
   "metadata": {},
   "outputs": [
    {
     "data": {
      "image/png": "[encoded data removed]",
      "text/plain": [
       "<Figure size 432x288 with 1 Axes>"
      ]
     },
     "metadata": {
      "needs_background": "light"
     },
     "output_type": "display_data"
    }
   ],
   "source": [
    "def imshow(inp, title=None):\n",
    "    \"\"\"Imshow for Tensor.\"\"\"\n",
    "    inp = inp.numpy().transpose((1, 2, 0))\n",
    "    mean = np.array([0.485, 0.456, 0.406])\n",
    "    std = np.array([0.229, 0.224, 0.225])\n",
    "    inp = std * inp + mean\n",
    "    inp = np.clip(inp, 0, 1)\n",
    "    plt.imshow(inp)\n",
    "    if title is not None:\n",
    "        plt.title(title)\n",
    "    plt.pause(0.001)  # pause a bit so that plots are updated\n",
    "\n",
    "\n",
    "inputs, classes = next(iter(dataloaders['train']))\n",
    "out = torchvision.utils.make_grid(inputs)\n",
    "imshow(out)"
   ]
  },
  {
   "cell_type": "code",
   "execution_count": 5,
   "metadata": {},
   "outputs": [],
   "source": [
    "def train_model(dataloders, model, criterion, optimizer, scheduler, num_epochs=25):\n",
    "    since = time.time()\n",
    "    use_gpu = torch.cuda.is_available()\n",
    "    #best_model_wts = model.state_dict()\n",
    "    best_acc = 0.0\n",
    "    dataset_sizes = {'train': len(dataloders['train'].dataset), \n",
    "                     'valid': len(dataloders['valid'].dataset)}\n",
    "\n",
    "    for epoch in range(num_epochs):\n",
    "        for phase in ['train', 'valid']:\n",
    "            if phase == 'train':\n",
    "                scheduler.step()\n",
    "                model.train()\n",
    "            else:\n",
    "                model.train() #changed here to true\n",
    "\n",
    "            running_loss = 0.0\n",
    "            running_corrects = 0\n",
    "\n",
    "            for inputs, labels in dataloders[phase]:\n",
    "                if use_gpu:\n",
    "                    inputs, labels = Variable(inputs.cuda()), Variable(labels.cuda())\n",
    "                else:\n",
    "                    inputs, labels = Variable(inputs), Variable(labels)\n",
    "\n",
    "                optimizer.zero_grad()\n",
    "\n",
    "                outputs = model(inputs)\n",
    "                _, preds = torch.max(outputs.data, 1)\n",
    "                loss = criterion(outputs, labels)\n",
    "\n",
    "                if phase == 'train':\n",
    "                    loss.backward()\n",
    "                    optimizer.step()\n",
    "\n",
    "                running_loss += loss.data\n",
    "                running_corrects += torch.sum(preds == labels.data)\n",
    "            \n",
    "            if phase == 'train':\n",
    "                train_epoch_loss = running_loss / dataset_sizes[phase]\n",
    "                train_epoch_acc = running_corrects / dataset_sizes[phase]\n",
    "            else:\n",
    "                valid_epoch_loss = running_loss / dataset_sizes[phase]\n",
    "                valid_epoch_acc = running_corrects / dataset_sizes[phase]\n",
    "                \n",
    "            if phase == 'valid' and valid_epoch_acc > best_acc:\n",
    "                best_acc = valid_epoch_acc\n",
    "                best_model_wts = model.state_dict()\n",
    "\n",
    "        print('Epoch [{}/{}] train loss: {:.4f} acc: {:.4f} ' \n",
    "              'valid loss: {:.4f} acc: {:.4f}'.format(\n",
    "                  epoch, num_epochs - 1,\n",
    "                train_epoch_loss, train_epoch_acc, \n",
    "                valid_epoch_loss, valid_epoch_acc))\n",
    "            \n",
    "    print('Best val Acc: {:4f}'.format(best_acc))\n",
    "    torch.save(model.state_dict(),\"50_epochs.pth\")\n",
    "    model.load_state_dict(best_model_wts)\n",
    "    return model"
   ]
  },
  {
   "cell_type": "code",
   "execution_count": null,
   "metadata": {},
   "outputs": [],
   "source": [
    "#for pre-trained model\n",
    "model = models.resnet18(pretrained=True)\n",
    "# freeze all model parameters\n",
    "for param in model.parameters():\n",
    "    param.requires_grad = False"
   ]
  },
  {
   "cell_type": "code",
   "execution_count": null,
   "metadata": {},
   "outputs": [],
   "source": [
    "#for non-pretrained model\n",
    "model = models.resnet18(pretrained=False)"
   ]
  },
  {
   "cell_type": "code",
   "execution_count": null,
   "metadata": {},
   "outputs": [],
   "source": [
    "# new final layer with 16 classes\n",
    "num_ftrs = model.fc.in_features\n",
    "model.fc = torch.nn.Linear(num_ftrs, 31)"
   ]
  },
  {
   "cell_type": "code",
   "execution_count": 6,
   "metadata": {},
   "outputs": [
    {
     "name": "stdout",
     "output_type": "stream",
     "text": [
      "<generator object Module.parameters at 0x1515a53a2f20>\n",
      "<generator object Module.parameters at 0x1515a53a2f20>\n",
      "\n"
     ]
    }
   ],
   "source": [
    "model = model.cuda()\n",
    "\n",
    "#resnet.load_state_dict(torch.load(\"50_epochs.pth\"))\n",
    "criterion = torch.nn.CrossEntropyLoss()\n",
    "optimizer = torch.optim.Adam(model.parameters(), lr=0.0001, betas=(0.5,0.999), weight_decay=0.00001)\n",
    "#optimizer = torch.optim.SGD(resnet.parameters(), lr=0.01, weight_decay=0.001)\n",
    "exp_lr_scheduler = lr_scheduler.StepLR(optimizer, step_size=10, gamma=0.1)\n",
    "dloaders = {'train':dataloaders['train'], 'valid':dataloaders['validation']}"
   ]
  },
  {
   "cell_type": "code",
   "execution_count": 7,
   "metadata": {},
   "outputs": [
    {
     "name": "stderr",
     "output_type": "stream",
     "text": [
      "/home/mk7711/.local/lib/python3.8/site-packages/torch/optim/lr_scheduler.py:129: UserWarning: Detected call of `lr_scheduler.step()` before `optimizer.step()`. In PyTorch 1.1.0 and later, you should call them in the opposite order: `optimizer.step()` before `lr_scheduler.step()`.  Failure to do this will result in PyTorch skipping the first value of the learning rate schedule. See more details at https://pytorch.org/docs/stable/optim.html#how-to-adjust-learning-rate\n",
      "  warnings.warn(\"Detected call of `lr_scheduler.step()` before `optimizer.step()`. \"\n"
     ]
    },
    {
     "name": "stdout",
     "output_type": "stream",
     "text": [
      "Epoch [0/99] train loss: 0.4045 acc: 0.1304 valid loss: 0.3719 acc: 0.2413\n",
      "Epoch [1/99] train loss: 0.3381 acc: 0.3781 valid loss: 0.3174 acc: 0.4535\n",
      "Epoch [2/99] train loss: 0.2862 acc: 0.5358 valid loss: 0.2743 acc: 0.5631\n",
      "Epoch [3/99] train loss: 0.2522 acc: 0.6036 valid loss: 0.2473 acc: 0.6103\n",
      "Epoch [4/99] train loss: 0.2220 acc: 0.6506 valid loss: 0.2264 acc: 0.6338\n",
      "Epoch [5/99] train loss: 0.2021 acc: 0.6787 valid loss: 0.2061 acc: 0.6588\n",
      "Epoch [6/99] train loss: 0.1872 acc: 0.6984 valid loss: 0.1950 acc: 0.6810\n",
      "Epoch [7/99] train loss: 0.1742 acc: 0.7063 valid loss: 0.1867 acc: 0.6865\n",
      "Epoch [8/99] train loss: 0.1638 acc: 0.7278 valid loss: 0.1749 acc: 0.6907\n",
      "Epoch [9/99] train loss: 0.1561 acc: 0.7468 valid loss: 0.1719 acc: 0.7101\n",
      "Epoch [10/99] train loss: 0.1553 acc: 0.7420 valid loss: 0.1695 acc: 0.7087\n",
      "Epoch [11/99] train loss: 0.1540 acc: 0.7416 valid loss: 0.1740 acc: 0.6838\n",
      "Epoch [12/99] train loss: 0.1531 acc: 0.7461 valid loss: 0.1699 acc: 0.7115\n",
      "Epoch [13/99] train loss: 0.1522 acc: 0.7485 valid loss: 0.1702 acc: 0.6990\n",
      "Epoch [14/99] train loss: 0.1510 acc: 0.7575 valid loss: 0.1727 acc: 0.6865\n",
      "Epoch [15/99] train loss: 0.1514 acc: 0.7485 valid loss: 0.1705 acc: 0.7032\n",
      "Epoch [16/99] train loss: 0.1516 acc: 0.7426 valid loss: 0.1715 acc: 0.6949\n",
      "Epoch [17/99] train loss: 0.1512 acc: 0.7330 valid loss: 0.1684 acc: 0.6963\n",
      "Epoch [18/99] train loss: 0.1483 acc: 0.7558 valid loss: 0.1634 acc: 0.7282\n",
      "Epoch [19/99] train loss: 0.1471 acc: 0.7447 valid loss: 0.1687 acc: 0.6893\n",
      "Epoch [20/99] train loss: 0.1475 acc: 0.7558 valid loss: 0.1712 acc: 0.6949\n",
      "Epoch [21/99] train loss: 0.1479 acc: 0.7516 valid loss: 0.1689 acc: 0.6976\n",
      "Epoch [22/99] train loss: 0.1473 acc: 0.7513 valid loss: 0.1687 acc: 0.6921\n",
      "Epoch [23/99] train loss: 0.1486 acc: 0.7482 valid loss: 0.1668 acc: 0.7101\n",
      "Epoch [24/99] train loss: 0.1463 acc: 0.7530 valid loss: 0.1645 acc: 0.7074\n",
      "Epoch [25/99] train loss: 0.1476 acc: 0.7475 valid loss: 0.1670 acc: 0.7101\n",
      "Epoch [26/99] train loss: 0.1474 acc: 0.7516 valid loss: 0.1650 acc: 0.7143\n",
      "Epoch [27/99] train loss: 0.1478 acc: 0.7485 valid loss: 0.1635 acc: 0.7184\n",
      "Epoch [28/99] train loss: 0.1469 acc: 0.7520 valid loss: 0.1636 acc: 0.7226\n",
      "Epoch [29/99] train loss: 0.1480 acc: 0.7496 valid loss: 0.1626 acc: 0.7087\n",
      "Epoch [30/99] train loss: 0.1482 acc: 0.7513 valid loss: 0.1666 acc: 0.6949\n",
      "Epoch [31/99] train loss: 0.1477 acc: 0.7586 valid loss: 0.1694 acc: 0.6838\n",
      "Epoch [32/99] train loss: 0.1465 acc: 0.7468 valid loss: 0.1699 acc: 0.7018\n",
      "Epoch [33/99] train loss: 0.1467 acc: 0.7534 valid loss: 0.1662 acc: 0.7198\n",
      "Epoch [34/99] train loss: 0.1488 acc: 0.7485 valid loss: 0.1651 acc: 0.7060\n",
      "Epoch [35/99] train loss: 0.1474 acc: 0.7541 valid loss: 0.1661 acc: 0.7087\n",
      "Epoch [36/99] train loss: 0.1480 acc: 0.7437 valid loss: 0.1676 acc: 0.6949\n",
      "Epoch [37/99] train loss: 0.1468 acc: 0.7537 valid loss: 0.1679 acc: 0.7129\n",
      "Epoch [38/99] train loss: 0.1461 acc: 0.7582 valid loss: 0.1650 acc: 0.7115\n",
      "Epoch [39/99] train loss: 0.1468 acc: 0.7548 valid loss: 0.1668 acc: 0.7143\n",
      "Epoch [40/99] train loss: 0.1466 acc: 0.7530 valid loss: 0.1686 acc: 0.7046\n",
      "Epoch [41/99] train loss: 0.1472 acc: 0.7499 valid loss: 0.1648 acc: 0.6990\n",
      "Epoch [42/99] train loss: 0.1471 acc: 0.7461 valid loss: 0.1602 acc: 0.7129\n",
      "Epoch [43/99] train loss: 0.1490 acc: 0.7437 valid loss: 0.1648 acc: 0.7032\n",
      "Epoch [44/99] train loss: 0.1479 acc: 0.7523 valid loss: 0.1674 acc: 0.7171\n",
      "Epoch [45/99] train loss: 0.1462 acc: 0.7482 valid loss: 0.1646 acc: 0.7018\n",
      "Epoch [46/99] train loss: 0.1466 acc: 0.7534 valid loss: 0.1671 acc: 0.7101\n",
      "Epoch [47/99] train loss: 0.1467 acc: 0.7565 valid loss: 0.1667 acc: 0.7046\n",
      "Epoch [48/99] train loss: 0.1483 acc: 0.7471 valid loss: 0.1658 acc: 0.7060\n",
      "Epoch [49/99] train loss: 0.1452 acc: 0.7599 valid loss: 0.1699 acc: 0.6990\n",
      "Epoch [50/99] train loss: 0.1448 acc: 0.7534 valid loss: 0.1699 acc: 0.7115\n",
      "Epoch [51/99] train loss: 0.1473 acc: 0.7465 valid loss: 0.1647 acc: 0.7101\n",
      "Epoch [52/99] train loss: 0.1488 acc: 0.7454 valid loss: 0.1706 acc: 0.6949\n",
      "Epoch [53/99] train loss: 0.1459 acc: 0.7579 valid loss: 0.1654 acc: 0.7171\n",
      "Epoch [54/99] train loss: 0.1478 acc: 0.7465 valid loss: 0.1674 acc: 0.7101\n",
      "Epoch [55/99] train loss: 0.1485 acc: 0.7458 valid loss: 0.1691 acc: 0.7018\n",
      "Epoch [56/99] train loss: 0.1470 acc: 0.7582 valid loss: 0.1685 acc: 0.7004\n",
      "Epoch [57/99] train loss: 0.1480 acc: 0.7471 valid loss: 0.1685 acc: 0.7032\n",
      "Epoch [58/99] train loss: 0.1486 acc: 0.7520 valid loss: 0.1661 acc: 0.7074\n",
      "Epoch [59/99] train loss: 0.1468 acc: 0.7596 valid loss: 0.1679 acc: 0.7032\n",
      "Epoch [60/99] train loss: 0.1467 acc: 0.7499 valid loss: 0.1701 acc: 0.6907\n",
      "Epoch [61/99] train loss: 0.1457 acc: 0.7551 valid loss: 0.1637 acc: 0.7046\n",
      "Epoch [62/99] train loss: 0.1472 acc: 0.7554 valid loss: 0.1655 acc: 0.7157\n",
      "Epoch [63/99] train loss: 0.1438 acc: 0.7561 valid loss: 0.1667 acc: 0.7101\n",
      "Epoch [64/99] train loss: 0.1462 acc: 0.7465 valid loss: 0.1661 acc: 0.7226\n",
      "Epoch [65/99] train loss: 0.1464 acc: 0.7589 valid loss: 0.1663 acc: 0.7046\n",
      "Epoch [66/99] train loss: 0.1490 acc: 0.7454 valid loss: 0.1619 acc: 0.7184\n",
      "Epoch [67/99] train loss: 0.1459 acc: 0.7520 valid loss: 0.1641 acc: 0.7309\n",
      "Epoch [68/99] train loss: 0.1455 acc: 0.7558 valid loss: 0.1684 acc: 0.6921\n",
      "Epoch [69/99] train loss: 0.1461 acc: 0.7565 valid loss: 0.1632 acc: 0.7198\n",
      "Epoch [70/99] train loss: 0.1486 acc: 0.7454 valid loss: 0.1703 acc: 0.7212\n",
      "Epoch [71/99] train loss: 0.1475 acc: 0.7561 valid loss: 0.1648 acc: 0.7046\n",
      "Epoch [72/99] train loss: 0.1466 acc: 0.7510 valid loss: 0.1666 acc: 0.7184\n",
      "Epoch [73/99] train loss: 0.1480 acc: 0.7489 valid loss: 0.1716 acc: 0.7087\n",
      "Epoch [74/99] train loss: 0.1477 acc: 0.7554 valid loss: 0.1705 acc: 0.6893\n",
      "Epoch [75/99] train loss: 0.1473 acc: 0.7478 valid loss: 0.1678 acc: 0.6852\n",
      "Epoch [76/99] train loss: 0.1457 acc: 0.7516 valid loss: 0.1596 acc: 0.7309\n",
      "Epoch [77/99] train loss: 0.1475 acc: 0.7516 valid loss: 0.1643 acc: 0.7115\n",
      "Epoch [78/99] train loss: 0.1481 acc: 0.7541 valid loss: 0.1626 acc: 0.7046\n",
      "Epoch [79/99] train loss: 0.1467 acc: 0.7561 valid loss: 0.1685 acc: 0.6976\n",
      "Epoch [80/99] train loss: 0.1481 acc: 0.7541 valid loss: 0.1665 acc: 0.7198\n",
      "Epoch [81/99] train loss: 0.1480 acc: 0.7568 valid loss: 0.1645 acc: 0.7129\n",
      "Epoch [82/99] train loss: 0.1465 acc: 0.7613 valid loss: 0.1652 acc: 0.6907\n",
      "Epoch [83/99] train loss: 0.1470 acc: 0.7506 valid loss: 0.1706 acc: 0.6879\n",
      "Epoch [84/99] train loss: 0.1458 acc: 0.7544 valid loss: 0.1639 acc: 0.7046\n",
      "Epoch [85/99] train loss: 0.1469 acc: 0.7475 valid loss: 0.1696 acc: 0.7101\n",
      "Epoch [86/99] train loss: 0.1485 acc: 0.7444 valid loss: 0.1687 acc: 0.6990\n",
      "Epoch [87/99] train loss: 0.1465 acc: 0.7506 valid loss: 0.1673 acc: 0.7115\n",
      "Epoch [88/99] train loss: 0.1472 acc: 0.7565 valid loss: 0.1658 acc: 0.7143\n",
      "Epoch [89/99] train loss: 0.1459 acc: 0.7554 valid loss: 0.1654 acc: 0.7184\n",
      "Epoch [90/99] train loss: 0.1475 acc: 0.7485 valid loss: 0.1662 acc: 0.7032\n",
      "Epoch [91/99] train loss: 0.1461 acc: 0.7527 valid loss: 0.1656 acc: 0.7212\n",
      "Epoch [92/99] train loss: 0.1478 acc: 0.7489 valid loss: 0.1646 acc: 0.7240\n",
      "Epoch [93/99] train loss: 0.1463 acc: 0.7430 valid loss: 0.1688 acc: 0.6935\n",
      "Epoch [94/99] train loss: 0.1467 acc: 0.7589 valid loss: 0.1680 acc: 0.7004\n",
      "Epoch [95/99] train loss: 0.1489 acc: 0.7444 valid loss: 0.1674 acc: 0.7184\n",
      "Epoch [96/99] train loss: 0.1484 acc: 0.7433 valid loss: 0.1680 acc: 0.7115\n",
      "Epoch [97/99] train loss: 0.1480 acc: 0.7496 valid loss: 0.1698 acc: 0.6976\n",
      "Epoch [98/99] train loss: 0.1452 acc: 0.7572 valid loss: 0.1706 acc: 0.7004\n",
      "Epoch [99/99] train loss: 0.1464 acc: 0.7516 valid loss: 0.1656 acc: 0.7115\n",
      "Best val Acc: 0.730929\n",
      "Training time:   9.548610 minutes\n"
     ]
    }
   ],
   "source": [
    "start_time = time.time()\n",
    "model = train_model(dloaders, model, criterion, optimizer, exp_lr_scheduler, num_epochs=100)\n",
    "print('Training time: {:10f} minutes'.format((time.time()-start_time)/60))"
   ]
  },
  {
   "cell_type": "code",
   "execution_count": 8,
   "metadata": {},
   "outputs": [],
   "source": [
    "def eval_model(model, criterion):\n",
    "    since = time.time()\n",
    "    avg_loss = 0\n",
    "    avg_acc = 0\n",
    "    loss_test = 0\n",
    "    acc_test = 0\n",
    "    \n",
    "    test_batches = len(dataloaders[test])\n",
    "    print(\"Evaluating model\")\n",
    "    print('-' * 10)\n",
    "    \n",
    "    for i, data in enumerate(dataloaders[test]):\n",
    "        if i % 100 == 0:\n",
    "            print(\"\\rTest batch {}/{}\".format(i, test_batches), end='', flush=True)\n",
    "\n",
    "        model.train(False)\n",
    "        model.eval()\n",
    "        inputs, labels = data\n",
    "\n",
    "        if use_gpu:\n",
    "            with torch.no_grad():\n",
    "                inputs, labels = inputs.cuda(),labels.cuda()\n",
    "        else:\n",
    "            inputs, labels = Variable(inputs, volatile=True), Variable(labels, volatile=True)\n",
    "\n",
    "        outputs = model(inputs)\n",
    "\n",
    "        _, preds = torch.max(outputs.data, 1)\n",
    "        loss = criterion(outputs, labels)\n",
    "\n",
    "        loss_test += loss.data\n",
    "        acc_test += torch.sum(preds == labels.data)\n",
    "\n",
    "        del inputs, labels, outputs, preds\n",
    "        torch.cuda.empty_cache()\n",
    "        #gc.collect()\n",
    "        \n",
    "    avg_loss = loss_test / dataset_sizes[test]\n",
    "    avg_acc = acc_test / dataset_sizes[test]\n",
    "    \n",
    "    elapsed_time = time.time() - since\n",
    "    print()\n",
    "    print(\"Evaluation completed in {:.0f}m {:.0f}s\".format(elapsed_time // 60, elapsed_time % 60))\n",
    "    print(\"Avg loss (test): {:.4f}\".format(avg_loss))\n",
    "    print(\"Avg acc (test): {:.4f}\".format(avg_acc))\n",
    "    print('-' * 10)"
   ]
  },
  {
   "cell_type": "code",
   "execution_count": 10,
   "metadata": {},
   "outputs": [
    {
     "name": "stdout",
     "output_type": "stream",
     "text": [
      "Evaluating model\n",
      "----------\n",
      "Test batch 0/63\n",
      "Evaluation completed in 0m 2s\n",
      "Avg loss (test): 0.2658\n",
      "Avg acc (test): 0.4177\n",
      "----------\n"
     ]
    }
   ],
   "source": [
    "eval_model(model, criterion)"
   ]
  },
  {
   "cell_type": "code",
   "execution_count": null,
   "metadata": {},
   "outputs": [],
   "source": []
  }
 ],
 "metadata": {
  "kernelspec": {
   "display_name": "Python 3",
   "language": "python",
   "name": "python3"
  },
  "language_info": {
   "codemirror_mode": {
    "name": "ipython",
    "version": 3
   },
   "file_extension": ".py",
   "mimetype": "text/x-python",
   "name": "python",
   "nbconvert_exporter": "python",
   "pygments_lexer": "ipython3",
   "version": "3.8.5"
  }
 },
 "nbformat": 4,
 "nbformat_minor": 5
}
